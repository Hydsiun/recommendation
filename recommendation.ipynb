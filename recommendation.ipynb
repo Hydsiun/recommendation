{
 "cells": [
  {
   "cell_type": "markdown",
   "metadata": {},
   "source": [
    "为了熟悉深度神经网络的构建和调参，本人以推荐系统为具体实验对象，以 番组计划（bangumi.tv）上的评分数据为基础做了一些实验工作，以期建立一个实用的动画推荐系统。推荐系统在学术和商用上都发展了很长的时间，也涌现出了很多优秀的算法。囿于本人能力和精力有限，对推荐系统涉及到的各方面的知识只是浅尝辄止，如果文中表述有误或者你有什么建议，都非常欢迎留言讨论。你也可以在项目里找到包括文中涉及到的数据以及代码等相关信息。\n",
    "\n",
    "本文首先简单介绍了推荐系统的几种主要的实现方式，然后介绍了基于矩阵分解的推荐系统及相关的一个实验，接着介绍了使用深度学习构建的推荐模型在学术集上取得了接近state-of-the-art的实验结果以及模型在Bangumi数据集上的应用，然后尝试参考Word2vec思想来优化深度网络，最后介绍了利用得到的模型来构建推荐系统以及对知名网站推荐系统的调研和一个基于内容推荐的算法设计思路。\n",
    "\n",
    "###推荐系统研究现状\n",
    "\n",
    "推荐系统一般是以用户的历史操作信息来为不同用户定制符合其需求的个性化服务。推荐系统可能的输入数据及其形式多种多样，归纳起来一般可以分为用户、物品和评价三个方面，如果用矩阵来表示则分别对应一个矩阵中的行、列和值。推荐系统的输出一般是一个个性化的推荐列表，按优先级的顺序给出该用户可能感兴趣的物品。依据推荐方法的不同，推荐算法大致可以分为：基于内容的推荐、基于协同过滤的推荐和混合型推荐系统。其中基于协同过滤的推荐被研究的最为深入，它又可以分为基于用户的推荐，基于物品的推荐和基于模型的推荐等<sup>[1]</sup>。\n",
    "\n",
    "###基于矩阵分解的评分预测\n",
    "\n",
    "一个典型的推荐系统常常把用户和物品之间的关系形式化为一个稀疏矩阵，其中矩阵每一行对应一个用户，每一列对应一个物品，矩阵的每一个非零值代表相应的用户对物品的打分，而每一个零值则代表用户没有对该物品进行过评分。基于矩阵分解的矩阵补全由于其较好的预测精度和较高的可扩展性，故在推荐系统中得到了广泛的应用。例如矩阵的奇异值分解（Singular Value Decomposition, SVD），非负矩阵分解（Non-negative Matrix Factorization, NMF）等等。由于基于矩阵分解的推荐系统不是本文的研究重点，这里只简要介绍一下SVD的原理和我使用SVD所做的一个实验。\n",
    "\n",
    "在一切开始之前，我们首先需要定义合适的评价指标来评价一个算法的预测结果，常用的评价指标有根分均方差（Root Mean Square Error, RMSE）和平均绝对误差（Mean Absolue Error, MAE），这两个评价指标在下文评价深度学习模型时也会用到，其计算方式本文不再赘述。\n",
    "\n",
    "最原始的矩阵奇异值分解方法具有严格的数学定义，设$X\\in R^{m\\times n}$是任意矩阵，矩阵$U\\in R^{m\\times r}$中的列向量是矩阵$XX^{T}\\in R^{m\\times m}$的单位正交特征向量，矩阵$V\\in R^{n\\times r}$中的列向量是矩阵$X^{T}X\\in R^{n\\times n}$的单位正交特征向量，对角矩阵$S\\in R^{r\\times r}$的每一个对角元素$\\sqrt{\\sigma}$则是与矩阵$U$（同时也是与矩阵$V$）中的每一个列向量对应的特征值$\\sigma$的平方根，并以从大到小的顺序排列，则原矩阵$X$则可表示为$X=US V^{T}$，其中$S$被称为奇异值矩阵。如果我们只保留奇异值矩阵$S$中的前$k$个最大的奇异值，同时只保留$U$和$V$中的前$k$个对应的列向量，则新的矩阵$\\hat{X}=U_{k}S_{k}V_{k}^{T}$即为对原矩阵$X$的一个近似[2]。可以证明，对原矩阵$X$所有秩为$k$的近似中，采用如上SVD得到的近似结果可以取得到最小的平方误差，即：$$\\hat{X}=U_{k}S_{k}V_{k}^{T}=argmin_{rank(\\hat{X})=k}||X-\\hat{X}||_{Fro}^{2}$$\n",
    "\n",
    "显然，通过这种方式取得的近似矩阵也就具有最小的RMSE值。下图是文献[2]中的插图，图中描述与上文略有出入，但表达的算法是一样的。\n",
    "<img src=\"http://wx1.sinaimg.cn/large/0062shohly1fr5emw5nkcj30kr0bmq53.jpg\" style=\"zoom:80%\"/>\n",
    "<center>图1 矩阵$X$奇异值分解示意图</center>\n",
    "\n",
    "然而在实际推荐系统中，我们所要处理的往往是非常稀疏的矩阵，即矩阵中存在大量的未知打分（以0值表示）。因此在计算预测精度时，将这些元素上的预测值也考虑在内并以0作为真实值进行评测是不合理的。\n",
    "\n",
    "基于这一事实，实际推荐系统中所使用的的SVD算法并不是原始的SVD，而是只考虑已观测数据进行模型训练和预测的SVD算法，并采用优化的方法求得近似矩阵以应对大规模的稀疏矩阵。优化的方法比较多，往往比较复杂，本文在实验时采用的是文献[3]中介绍的处理办法：首先计算矩阵$X$中每行和每列的平均值，将矩阵中的缺失元素用该元素所在列的平均值代替,得到填充矩阵，然后将填充矩阵中所有元素减去其所在行的平均值，得到规范化矩阵$X_{norm}$。本实验借用numpy中的linalg模块来实现SVD。"
   ]
  },
  {
   "cell_type": "markdown",
   "metadata": {},
   "source": [
    "在实验正式开始之前，我们先分析一下Bangumi上的评分数据情况。\n",
    "\n",
    "数据是5月6号爬的。可以在下面看到在去掉没有评分操作的用户和没有被评分过的条目之后，一共有51570个用户和11324个条目。"
   ]
  },
  {
   "cell_type": "code",
   "execution_count": 6,
   "metadata": {},
   "outputs": [
    {
     "name": "stdout",
     "output_type": "stream",
     "text": [
      "51570 11324\n"
     ]
    }
   ],
   "source": [
    "# svd.py\n",
    "import numpy as np\n",
    "from numpy import linalg\n",
    "import pandas as pd\n",
    "import seaborn\n",
    "\n",
    "data = pd.read_csv('./bgmdata/ratings.txt', sep=' ', engine='python', names=['uid', 'sid', 'rating']) # read data from file\n",
    "n_user = data.uid.unique().shape[0] # number of users\n",
    "n_sub = data.sid.unique().shape[0] #  number of subjects\n",
    "print n_user, n_sub"
   ]
  },
  {
   "cell_type": "markdown",
   "metadata": {},
   "source": [
    "数据是经过预处理的，用户和条目都被重新编号，评分是1~10的整数。"
   ]
  },
  {
   "cell_type": "code",
   "execution_count": 7,
   "metadata": {},
   "outputs": [
    {
     "data": {
      "text/html": [
       "<div>\n",
       "<style scoped>\n",
       "    .dataframe tbody tr th:only-of-type {\n",
       "        vertical-align: middle;\n",
       "    }\n",
       "\n",
       "    .dataframe tbody tr th {\n",
       "        vertical-align: top;\n",
       "    }\n",
       "\n",
       "    .dataframe thead th {\n",
       "        text-align: right;\n",
       "    }\n",
       "</style>\n",
       "<table border=\"1\" class=\"dataframe\">\n",
       "  <thead>\n",
       "    <tr style=\"text-align: right;\">\n",
       "      <th></th>\n",
       "      <th>uid</th>\n",
       "      <th>sid</th>\n",
       "      <th>rating</th>\n",
       "    </tr>\n",
       "  </thead>\n",
       "  <tbody>\n",
       "    <tr>\n",
       "      <th>0</th>\n",
       "      <td>0</td>\n",
       "      <td>0</td>\n",
       "      <td>2</td>\n",
       "    </tr>\n",
       "    <tr>\n",
       "      <th>1</th>\n",
       "      <td>1</td>\n",
       "      <td>0</td>\n",
       "      <td>8</td>\n",
       "    </tr>\n",
       "    <tr>\n",
       "      <th>2</th>\n",
       "      <td>2</td>\n",
       "      <td>0</td>\n",
       "      <td>1</td>\n",
       "    </tr>\n",
       "    <tr>\n",
       "      <th>3</th>\n",
       "      <td>3</td>\n",
       "      <td>0</td>\n",
       "      <td>1</td>\n",
       "    </tr>\n",
       "    <tr>\n",
       "      <th>4</th>\n",
       "      <td>4</td>\n",
       "      <td>0</td>\n",
       "      <td>6</td>\n",
       "    </tr>\n",
       "  </tbody>\n",
       "</table>\n",
       "</div>"
      ],
      "text/plain": [
       "   uid  sid  rating\n",
       "0    0    0       2\n",
       "1    1    0       8\n",
       "2    2    0       1\n",
       "3    3    0       1\n",
       "4    4    0       6"
      ]
     },
     "execution_count": 7,
     "metadata": {},
     "output_type": "execute_result"
    }
   ],
   "source": [
    "data.head()"
   ]
  },
  {
   "cell_type": "markdown",
   "metadata": {},
   "source": [
    "一共有约318万条评分数据。评分的平均数是7.2,7分是最经常被评的分数，我们也可以从下面的直方图更加直观地看到评分数据分布情况。"
   ]
  },
  {
   "cell_type": "code",
   "execution_count": 8,
   "metadata": {},
   "outputs": [
    {
     "data": {
      "text/plain": [
       "count    3.177697e+06\n",
       "mean     7.199741e+00\n",
       "std      1.522199e+00\n",
       "min      1.000000e+00\n",
       "25%      6.000000e+00\n",
       "50%      7.000000e+00\n",
       "75%      8.000000e+00\n",
       "max      1.000000e+01\n",
       "Name: rating, dtype: float64"
      ]
     },
     "execution_count": 8,
     "metadata": {},
     "output_type": "execute_result"
    }
   ],
   "source": [
    "data.rating.describe()"
   ]
  },
  {
   "cell_type": "code",
   "execution_count": 9,
   "metadata": {},
   "outputs": [
    {
     "data": {
      "text/plain": [
       "<matplotlib.axes._subplots.AxesSubplot at 0x7f08c7d03ad0>"
      ]
     },
     "execution_count": 9,
     "metadata": {},
     "output_type": "execute_result"
    },
    {
     "data": {
      "image/png": "[encoded data removed]",
      "text/plain": [
       "<Figure size 432x288 with 1 Axes>"
      ]
     },
     "metadata": {},
     "output_type": "display_data"
    }
   ],
   "source": [
    "data.rating.hist(bins=20)"
   ]
  },
  {
   "cell_type": "markdown",
   "metadata": {},
   "source": [
    "这个是所有用户评分情况的统计数据，可以看到平均每个用户有62个评分操作，大部分用户只有6个评分操作。这也说明了评分矩阵是很稀疏的，下面的直方图可以更加直观地看到数据分布情况。"
   ]
  },
  {
   "cell_type": "code",
   "execution_count": 10,
   "metadata": {},
   "outputs": [
    {
     "data": {
      "text/plain": [
       "count    51570.000000\n",
       "mean        61.619100\n",
       "std        149.706687\n",
       "min          1.000000\n",
       "25%          1.000000\n",
       "50%          6.000000\n",
       "75%         46.000000\n",
       "max       3839.000000\n",
       "Name: uid, dtype: float64"
      ]
     },
     "execution_count": 10,
     "metadata": {},
     "output_type": "execute_result"
    }
   ],
   "source": [
    "data.uid.value_counts().describe()"
   ]
  },
  {
   "cell_type": "code",
   "execution_count": 21,
   "metadata": {},
   "outputs": [
    {
     "data": {
      "text/plain": [
       "<matplotlib.axes._subplots.AxesSubplot at 0x7f522c7473d0>"
      ]
     },
     "execution_count": 21,
     "metadata": {},
     "output_type": "execute_result"
    },
    {
     "data": {
      "image/png": "[encoded data removed]",
      "text/plain": [
       "<Figure size 432x288 with 1 Axes>"
      ]
     },
     "metadata": {},
     "output_type": "display_data"
    }
   ],
   "source": [
    "data.uid.value_counts().hist()"
   ]
  },
  {
   "cell_type": "markdown",
   "metadata": {},
   "source": [
    "下面是上文描述算法的实现代码。这是个很粗糙的利用SVD算法实现的推荐系统，不仅需要大量的计算，而且我粗略地检查了推荐结果后发现效果比较差。"
   ]
  },
  {
   "cell_type": "code",
   "execution_count": null,
   "metadata": {},
   "outputs": [],
   "source": [
    "X = np.zeros((n_user, n_sub), dtype='float64') # rating matrix\n",
    "f = open('ratings.txt')\n",
    "for line in input:\n",
    "    line = line.strip('\\r\\n').split(' ')\n",
    "    uid = int(line[0])\n",
    "    sid = int(line[1])\n",
    "    rating = float(line[2])\n",
    "    X[uid, sid] = rating\n",
    "sub_avg = [] # subject average rating\n",
    "for i in range(n_sub):\n",
    "    sub_avg.append(np.sum(X[:, i]) / np.count_nonzero(X[:, i]))\n",
    "for i in range(n_user):\n",
    "    for j in range(n_sub):\n",
    "        if X[i, j] == 0:\n",
    "            X[i, j] = sub_avg[j]\n",
    "for i in range(n_user):\n",
    "    X[i] -= np.sum(X[i]) / np.count_nonzero(X[i]) # Standardized\n",
    "\n",
    "U, S, V = linalg.svd(X)\n",
    "\n",
    "recommend = [[] for i in range(n_sub)]\n",
    "for i in range(n_sub):\n",
    "    for j in range(n_sub):\n",
    "        if i == j:\n",
    "            continue\n",
    "        vi = V[:, i]\n",
    "        vj = V[:, j]\n",
    "        recommend[i].append([j, np.dot(vi, vj) / (linalg.norm(vi) * linalg.norm(vj))]) # cosine similarity\n",
    "\n",
    "out = open('./save/svd_recommend.txt', 'w')\n",
    "for i in range(n_sub):\n",
    "    recommend[i] = sorted(recommend[i], key=lambda x: x[1], reverse=True)\n",
    "    s = ''\n",
    "    topn = min(20, len(recommend[i])) # top 20\n",
    "    for j in range(topn):\n",
    "        s += str(recommend[i][j][0]) + ' ' + str(recommend[i][j][1]) + ','\n",
    "    s = s[:-1]\n",
    "    out.write(s + '\\n')\n",
    "out.close()"
   ]
  },
  {
   "cell_type": "markdown",
   "metadata": {},
   "source": [
    "###基于深度学习的评分预测\n",
    "由于SVD并不是本文重点，而且很多论文中提出的算法不容易实现，我也没有去计算上述实现的RMSE。下面的内容主要围绕使用深度学习构建的神经网络模型展开。\n",
    "\n",
    "这里使用Kears框架。机器学习我也接触一两年了，在外面实习和在学校实验室里使用过几种框架，包括Caffe和TensoFlow等，但缺点是都不太好写。Keras一直以其简单好用而著名，前段时间也有了中文文档。当然PyTorch也很有名，更加适合学术研究，之后有机会再学学。\n",
    "\n",
    "我们先在著名的学术集MovieLens 1M Dataset<sup>[4]</sup>（以下简称mldata）测试模型的准确率，之后再考虑应用到Bangumi数据上。\n",
    "mldata是一个电影评分数据集，我们首先来分析一下mldata的分布情况。"
   ]
  },
  {
   "cell_type": "markdown",
   "metadata": {},
   "source": [
    "从下面可以看到这个数据集有6040个用户，3706个电影，数据集里还包含了评分时间这一列，但是这里我们用不到。"
   ]
  },
  {
   "cell_type": "code",
   "execution_count": 2,
   "metadata": {},
   "outputs": [
    {
     "name": "stdout",
     "output_type": "stream",
     "text": [
      "6040 3706\n"
     ]
    }
   ],
   "source": [
    "# ml-dot.py\n",
    "from keras.models import Sequential, Model, Input\n",
    "from keras.layers import Dot, Dense, Dropout, Embedding, Reshape, Conv1D, MaxPooling1D\n",
    "from keras.layers.merge import Concatenate\n",
    "from keras.callbacks import ModelCheckpoint\n",
    "from keras import metrics, utils, losses\n",
    "from keras.utils.vis_utils import model_to_dot\n",
    "from sklearn import metrics as sk_metrics, cross_validation\n",
    "from IPython.display import SVG\n",
    "import matplotlib.pyplot as plt\n",
    "from pylab import plot\n",
    "import numpy as np\n",
    "import pandas as pd\n",
    "import pickle\n",
    "import warnings\n",
    "warnings.filterwarnings('ignore')\n",
    "\n",
    "k = 128\n",
    "data = pd.read_csv('./mldata/ratings.dat', sep='::', engine='python', names=['uid', 'sid', 'rating', 'time'])\n",
    "n_user = data.uid.unique().shape[0]\n",
    "n_sub = data.sid.unique().shape[0]\n",
    "print n_user, n_sub"
   ]
  },
  {
   "cell_type": "markdown",
   "metadata": {},
   "source": [
    "mldata的用户和电影的id都是从1开始编号的，而且是五分制，也就是说评分是1~5的整数。"
   ]
  },
  {
   "cell_type": "code",
   "execution_count": 23,
   "metadata": {},
   "outputs": [
    {
     "data": {
      "text/html": [
       "<div>\n",
       "<style scoped>\n",
       "    .dataframe tbody tr th:only-of-type {\n",
       "        vertical-align: middle;\n",
       "    }\n",
       "\n",
       "    .dataframe tbody tr th {\n",
       "        vertical-align: top;\n",
       "    }\n",
       "\n",
       "    .dataframe thead th {\n",
       "        text-align: right;\n",
       "    }\n",
       "</style>\n",
       "<table border=\"1\" class=\"dataframe\">\n",
       "  <thead>\n",
       "    <tr style=\"text-align: right;\">\n",
       "      <th></th>\n",
       "      <th>uid</th>\n",
       "      <th>sid</th>\n",
       "      <th>rating</th>\n",
       "      <th>time</th>\n",
       "    </tr>\n",
       "  </thead>\n",
       "  <tbody>\n",
       "    <tr>\n",
       "      <th>0</th>\n",
       "      <td>1</td>\n",
       "      <td>1193</td>\n",
       "      <td>5</td>\n",
       "      <td>978300760</td>\n",
       "    </tr>\n",
       "    <tr>\n",
       "      <th>1</th>\n",
       "      <td>1</td>\n",
       "      <td>661</td>\n",
       "      <td>3</td>\n",
       "      <td>978302109</td>\n",
       "    </tr>\n",
       "    <tr>\n",
       "      <th>2</th>\n",
       "      <td>1</td>\n",
       "      <td>914</td>\n",
       "      <td>3</td>\n",
       "      <td>978301968</td>\n",
       "    </tr>\n",
       "    <tr>\n",
       "      <th>3</th>\n",
       "      <td>1</td>\n",
       "      <td>3408</td>\n",
       "      <td>4</td>\n",
       "      <td>978300275</td>\n",
       "    </tr>\n",
       "    <tr>\n",
       "      <th>4</th>\n",
       "      <td>1</td>\n",
       "      <td>2355</td>\n",
       "      <td>5</td>\n",
       "      <td>978824291</td>\n",
       "    </tr>\n",
       "  </tbody>\n",
       "</table>\n",
       "</div>"
      ],
      "text/plain": [
       "   uid   sid  rating       time\n",
       "0    1  1193       5  978300760\n",
       "1    1   661       3  978302109\n",
       "2    1   914       3  978301968\n",
       "3    1  3408       4  978300275\n",
       "4    1  2355       5  978824291"
      ]
     },
     "execution_count": 23,
     "metadata": {},
     "output_type": "execute_result"
    }
   ],
   "source": [
    "data.head()"
   ]
  },
  {
   "cell_type": "markdown",
   "metadata": {},
   "source": [
    "这里可以看到mldata一共有100万条评分数据，这也是MovieLens 1M Dataset中\"1M\"的来源，类似的还有别的大小的数据集。平均评分是3.6，4分占比最大。与上面提到的Bangumi的评分数据对比来看，mldata相对没有那么稀疏，而且五分制相对十分制而言评分的噪声也会要小一些。"
   ]
  },
  {
   "cell_type": "code",
   "execution_count": 24,
   "metadata": {},
   "outputs": [
    {
     "data": {
      "text/plain": [
       "count    1.000209e+06\n",
       "mean     3.581564e+00\n",
       "std      1.117102e+00\n",
       "min      1.000000e+00\n",
       "25%      3.000000e+00\n",
       "50%      4.000000e+00\n",
       "75%      4.000000e+00\n",
       "max      5.000000e+00\n",
       "Name: rating, dtype: float64"
      ]
     },
     "execution_count": 24,
     "metadata": {},
     "output_type": "execute_result"
    }
   ],
   "source": [
    "data.rating.describe()"
   ]
  },
  {
   "cell_type": "code",
   "execution_count": 18,
   "metadata": {},
   "outputs": [
    {
     "data": {
      "text/plain": [
       "<matplotlib.axes._subplots.AxesSubplot at 0x7ff4ef625cd0>"
      ]
     },
     "execution_count": 18,
     "metadata": {},
     "output_type": "execute_result"
    },
    {
     "data": {
      "image/png": "[encoded data removed]",
      "text/plain": [
       "<Figure size 432x288 with 1 Axes>"
      ]
     },
     "metadata": {},
     "output_type": "display_data"
    }
   ],
   "source": [
    "data.rating.hist(bins=10)"
   ]
  },
  {
   "cell_type": "code",
   "execution_count": 26,
   "metadata": {},
   "outputs": [
    {
     "data": {
      "text/plain": [
       "count    6040.000000\n",
       "mean      165.597517\n",
       "std       192.747029\n",
       "min        20.000000\n",
       "25%        44.000000\n",
       "50%        96.000000\n",
       "75%       208.000000\n",
       "max      2314.000000\n",
       "Name: uid, dtype: float64"
      ]
     },
     "execution_count": 26,
     "metadata": {},
     "output_type": "execute_result"
    }
   ],
   "source": [
    "data.uid.value_counts().describe()"
   ]
  },
  {
   "cell_type": "code",
   "execution_count": 27,
   "metadata": {},
   "outputs": [
    {
     "data": {
      "text/plain": [
       "<matplotlib.axes._subplots.AxesSubplot at 0x7f51c46849d0>"
      ]
     },
     "execution_count": 27,
     "metadata": {},
     "output_type": "execute_result"
    },
    {
     "data": {
      "image/png": "[encoded data removed]",
      "text/plain": [
       "<Figure size 432x288 with 1 Axes>"
      ]
     },
     "metadata": {},
     "output_type": "display_data"
    }
   ],
   "source": [
    "data.uid.value_counts().hist()"
   ]
  },
  {
   "cell_type": "markdown",
   "metadata": {},
   "source": [
    "接下来我们开始构建网络。首先想到的网络就是模拟矩阵分解的思想：首先对每个用户和条目进行embedding，然后让表示用户的向量（$1\\times k$）与表示条目的向量（$k\\times 1$）相乘，乘积结果与实际评分做误差反向传播，更新embedding层的参数。\n",
    "\n",
    "这个网络非常简单，下面是用Kears构建网络的代码和网络结构图。这里loss function我们选择的是MSE，与上文提到的RMSE区别就在于后者多了一次开根运算，optimizer选择的是常用的Adam。\n",
    "\n",
    "这里的$k$是embedding的size，可以自己设定，视机器硬件条件和数据集大小设为几十到几百都可以。我在实验中发现$k$值适当大一些训练效果会更好，但是过大的话不会继续提升准确率反而影响训练速度，这也是符合常识的。"
   ]
  },
  {
   "cell_type": "code",
   "execution_count": 8,
   "metadata": {},
   "outputs": [
    {
     "data": {
      "image/svg+xml": [
       "<svg height=\"264pt\" viewBox=\"0.00 0.00 432.00 264.00\" width=\"432pt\" xmlns=\"http://www.w3.org/2000/svg\" xmlns:xlink=\"http://www.w3.org/1999/xlink\">\n",
       "<g class=\"graph\" id=\"graph0\" transform=\"scale(1 1) rotate(0) translate(4 260)\">\n",
       "<title>G</title>\n",
       "<polygon fill=\"white\" points=\"-4,4 -4,-260 428,-260 428,4 -4,4\" stroke=\"none\"/>\n",
       "<!-- 140346353824400 -->\n",
       "<g class=\"node\" id=\"node1\"><title>140346353824400</title>\n",
       "<polygon fill=\"none\" points=\"10.5,-219.5 10.5,-255.5 192.5,-255.5 192.5,-219.5 10.5,-219.5\" stroke=\"black\"/>\n",
       "<text font-family=\"Times,serif\" font-size=\"14.00\" text-anchor=\"middle\" x=\"101.5\" y=\"-233.8\">user_input: InputLayer</text>\n",
       "</g>\n",
       "<!-- 140356415656784 -->\n",
       "<g class=\"node\" id=\"node3\"><title>140356415656784</title>\n",
       "<polygon fill=\"none\" points=\"0,-146.5 0,-182.5 203,-182.5 203,-146.5 0,-146.5\" stroke=\"black\"/>\n",
       "<text font-family=\"Times,serif\" font-size=\"14.00\" text-anchor=\"middle\" x=\"101.5\" y=\"-160.8\">embedding_1: Embedding</text>\n",
       "</g>\n",
       "<!-- 140346353824400&#45;&gt;140356415656784 -->\n",
       "<g class=\"edge\" id=\"edge1\"><title>140346353824400-&gt;140356415656784</title>\n",
       "<path d=\"M101.5,-219.313C101.5,-211.289 101.5,-201.547 101.5,-192.569\" fill=\"none\" stroke=\"black\"/>\n",
       "<polygon fill=\"black\" points=\"105,-192.529 101.5,-182.529 98.0001,-192.529 105,-192.529\" stroke=\"black\"/>\n",
       "</g>\n",
       "<!-- 140346353823824 -->\n",
       "<g class=\"node\" id=\"node2\"><title>140346353823824</title>\n",
       "<polygon fill=\"none\" points=\"234.5,-219.5 234.5,-255.5 410.5,-255.5 410.5,-219.5 234.5,-219.5\" stroke=\"black\"/>\n",
       "<text font-family=\"Times,serif\" font-size=\"14.00\" text-anchor=\"middle\" x=\"322.5\" y=\"-233.8\">sub_input: InputLayer</text>\n",
       "</g>\n",
       "<!-- 140356415656400 -->\n",
       "<g class=\"node\" id=\"node4\"><title>140356415656400</title>\n",
       "<polygon fill=\"none\" points=\"221,-146.5 221,-182.5 424,-182.5 424,-146.5 221,-146.5\" stroke=\"black\"/>\n",
       "<text font-family=\"Times,serif\" font-size=\"14.00\" text-anchor=\"middle\" x=\"322.5\" y=\"-160.8\">embedding_2: Embedding</text>\n",
       "</g>\n",
       "<!-- 140346353823824&#45;&gt;140356415656400 -->\n",
       "<g class=\"edge\" id=\"edge2\"><title>140346353823824-&gt;140356415656400</title>\n",
       "<path d=\"M322.5,-219.313C322.5,-211.289 322.5,-201.547 322.5,-192.569\" fill=\"none\" stroke=\"black\"/>\n",
       "<polygon fill=\"black\" points=\"326,-192.529 322.5,-182.529 319,-192.529 326,-192.529\" stroke=\"black\"/>\n",
       "</g>\n",
       "<!-- 140346353824656 -->\n",
       "<g class=\"node\" id=\"node5\"><title>140346353824656</title>\n",
       "<polygon fill=\"none\" points=\"42.5,-73.5 42.5,-109.5 202.5,-109.5 202.5,-73.5 42.5,-73.5\" stroke=\"black\"/>\n",
       "<text font-family=\"Times,serif\" font-size=\"14.00\" text-anchor=\"middle\" x=\"122.5\" y=\"-87.8\">reshape_1: Reshape</text>\n",
       "</g>\n",
       "<!-- 140356415656784&#45;&gt;140346353824656 -->\n",
       "<g class=\"edge\" id=\"edge3\"><title>140356415656784-&gt;140346353824656</title>\n",
       "<path d=\"M106.584,-146.313C108.982,-138.202 111.901,-128.336 114.58,-119.277\" fill=\"none\" stroke=\"black\"/>\n",
       "<polygon fill=\"black\" points=\"117.983,-120.111 117.463,-109.529 111.271,-118.125 117.983,-120.111\" stroke=\"black\"/>\n",
       "</g>\n",
       "<!-- 140346353824976 -->\n",
       "<g class=\"node\" id=\"node6\"><title>140346353824976</title>\n",
       "<polygon fill=\"none\" points=\"231.5,-73.5 231.5,-109.5 391.5,-109.5 391.5,-73.5 231.5,-73.5\" stroke=\"black\"/>\n",
       "<text font-family=\"Times,serif\" font-size=\"14.00\" text-anchor=\"middle\" x=\"311.5\" y=\"-87.8\">reshape_2: Reshape</text>\n",
       "</g>\n",
       "<!-- 140356415656400&#45;&gt;140346353824976 -->\n",
       "<g class=\"edge\" id=\"edge4\"><title>140356415656400-&gt;140346353824976</title>\n",
       "<path d=\"M319.837,-146.313C318.594,-138.289 317.085,-128.547 315.694,-119.569\" fill=\"none\" stroke=\"black\"/>\n",
       "<polygon fill=\"black\" points=\"319.128,-118.875 314.138,-109.529 312.211,-119.947 319.128,-118.875\" stroke=\"black\"/>\n",
       "</g>\n",
       "<!-- 140346353824784 -->\n",
       "<g class=\"node\" id=\"node7\"><title>140346353824784</title>\n",
       "<polygon fill=\"none\" points=\"171,-0.5 171,-36.5 262,-36.5 262,-0.5 171,-0.5\" stroke=\"black\"/>\n",
       "<text font-family=\"Times,serif\" font-size=\"14.00\" text-anchor=\"middle\" x=\"216.5\" y=\"-14.8\">dot_1: Dot</text>\n",
       "</g>\n",
       "<!-- 140346353824656&#45;&gt;140346353824784 -->\n",
       "<g class=\"edge\" id=\"edge5\"><title>140346353824656-&gt;140346353824784</title>\n",
       "<path d=\"M145.255,-73.3129C157.378,-64.1558 172.466,-52.76 185.631,-42.8158\" fill=\"none\" stroke=\"black\"/>\n",
       "<polygon fill=\"black\" points=\"188.085,-45.3489 193.955,-36.5288 183.866,-39.7632 188.085,-45.3489\" stroke=\"black\"/>\n",
       "</g>\n",
       "<!-- 140346353824976&#45;&gt;140346353824784 -->\n",
       "<g class=\"edge\" id=\"edge6\"><title>140346353824976-&gt;140346353824784</title>\n",
       "<path d=\"M288.503,-73.3129C276.134,-64.0685 260.712,-52.5427 247.318,-42.5321\" fill=\"none\" stroke=\"black\"/>\n",
       "<polygon fill=\"black\" points=\"249.39,-39.7118 239.285,-36.5288 245.2,-45.3189 249.39,-39.7118\" stroke=\"black\"/>\n",
       "</g>\n",
       "</g>\n",
       "</svg>"
      ],
      "text/plain": [
       "<IPython.core.display.SVG object>"
      ]
     },
     "execution_count": 8,
     "metadata": {},
     "output_type": "execute_result"
    }
   ],
   "source": [
    "input1 = Input(shape=(1,), name='user_input')\n",
    "model1 = Embedding(n_user, k, input_length=1)(input1)\n",
    "model1 = Reshape((k,))(model1)\n",
    "input2 = Input(shape=(1,), name='sub_input')\n",
    "model2 = Embedding(n_sub, k, input_length=1)(input2)\n",
    "model2 = Reshape((k,))(model2)\n",
    "output = Dot(axes=1)([model1, model2])\n",
    "model = Model([input1, input2], output)\n",
    "model.compile(loss='mse', optimizer='adam')\n",
    "SVG(model_to_dot(model).create(prog='dot', format='svg'))"
   ]
  },
  {
   "cell_type": "markdown",
   "metadata": {},
   "source": [
    "接下来是模型训练过程，我们首先把数据集分成训练集和测试集。由于评分矩阵比较稀疏，为了减少调参时每次随机划分测试集导致计算的loss浮动偏大的问题，我们在这里固定随机种子。\n",
    "\n",
    "这里我把batch_size设为500，训练20个epochs，训练过程如下。"
   ]
  },
  {
   "cell_type": "code",
   "execution_count": 13,
   "metadata": {},
   "outputs": [
    {
     "name": "stdout",
     "output_type": "stream",
     "text": [
      "Train on 900188 samples, validate on 100021 samples\n",
      "Epoch 1/20\n",
      "900188/900188 [==============================] - 23s 25us/step - loss: 4.9196 - val_loss: 1.3608\n",
      "Epoch 2/20\n",
      "900188/900188 [==============================] - 10s 11us/step - loss: 1.3079 - val_loss: 1.2815\n",
      "Epoch 3/20\n",
      "900188/900188 [==============================] - 10s 11us/step - loss: 1.2316 - val_loss: 1.2492\n",
      "Epoch 4/20\n",
      "900188/900188 [==============================] - 10s 11us/step - loss: 1.1669 - val_loss: 1.2311\n",
      "Epoch 5/20\n",
      "900188/900188 [==============================] - 10s 11us/step - loss: 1.1037 - val_loss: 1.2271\n",
      "Epoch 6/20\n",
      "900188/900188 [==============================] - 10s 11us/step - loss: 1.0384 - val_loss: 1.2280\n",
      "Epoch 7/20\n",
      "900188/900188 [==============================] - 10s 11us/step - loss: 0.9720 - val_loss: 1.2395\n",
      "Epoch 8/20\n",
      "900188/900188 [==============================] - 10s 11us/step - loss: 0.9092 - val_loss: 1.2566\n",
      "Epoch 9/20\n",
      "900188/900188 [==============================] - 10s 11us/step - loss: 0.8536 - val_loss: 1.2812\n",
      "Epoch 10/20\n",
      "900188/900188 [==============================] - 9s 10us/step - loss: 0.8080 - val_loss: 1.3066\n",
      "Epoch 11/20\n",
      "900188/900188 [==============================] - 10s 11us/step - loss: 0.7720 - val_loss: 1.3345\n",
      "Epoch 12/20\n",
      "900188/900188 [==============================] - 10s 11us/step - loss: 0.7438 - val_loss: 1.3638\n",
      "Epoch 13/20\n",
      "900188/900188 [==============================] - 10s 11us/step - loss: 0.7221 - val_loss: 1.3896\n",
      "Epoch 14/20\n",
      "900188/900188 [==============================] - 10s 11us/step - loss: 0.7050 - val_loss: 1.4178\n",
      "Epoch 15/20\n",
      "900188/900188 [==============================] - 10s 11us/step - loss: 0.6912 - val_loss: 1.4417\n",
      "Epoch 16/20\n",
      "900188/900188 [==============================] - 9s 10us/step - loss: 0.6802 - val_loss: 1.4674\n",
      "Epoch 17/20\n",
      "900188/900188 [==============================] - 10s 11us/step - loss: 0.6708 - val_loss: 1.4898\n",
      "Epoch 18/20\n",
      "900188/900188 [==============================] - 10s 11us/step - loss: 0.6631 - val_loss: 1.5129\n",
      "Epoch 19/20\n",
      "900188/900188 [==============================] - 9s 11us/step - loss: 0.6563 - val_loss: 1.5358\n",
      "Epoch 20/20\n",
      "900188/900188 [==============================] - 9s 10us/step - loss: 0.6506 - val_loss: 1.5573\n"
     ]
    }
   ],
   "source": [
    "train, test = cross_validation.train_test_split(data, test_size=0.1, random_state=1)\n",
    "x_train = [train.uid, train.sid]\n",
    "y_train = train.rating\n",
    "x_test = [test.uid, test.sid]\n",
    "y_test = test.rating\n",
    "history = model.fit(x_train, y_train, batch_size=500, epochs=20, validation_data=(x_test, y_test))\n",
    "\n",
    "save_path = './save/ml-dot/'\n",
    "model.save(save_path + 'model.h5')\n",
    "with open(save_path + 'history.pkl', 'wb') as file_history:\n",
    "    pickle.dump(history.history, file_history)"
   ]
  },
  {
   "cell_type": "markdown",
   "metadata": {},
   "source": [
    "这个是训练中的loss变化表，第一行为训练loss，第二行为测试loss，我们主要关注测试loss的走势。"
   ]
  },
  {
   "cell_type": "code",
   "execution_count": 14,
   "metadata": {},
   "outputs": [
    {
     "data": {
      "text/html": [
       "<div>\n",
       "<style scoped>\n",
       "    .dataframe tbody tr th:only-of-type {\n",
       "        vertical-align: middle;\n",
       "    }\n",
       "\n",
       "    .dataframe tbody tr th {\n",
       "        vertical-align: top;\n",
       "    }\n",
       "\n",
       "    .dataframe thead th {\n",
       "        text-align: right;\n",
       "    }\n",
       "</style>\n",
       "<table border=\"1\" class=\"dataframe\">\n",
       "  <thead>\n",
       "    <tr style=\"text-align: right;\">\n",
       "      <th></th>\n",
       "      <th>0</th>\n",
       "      <th>1</th>\n",
       "      <th>2</th>\n",
       "      <th>3</th>\n",
       "      <th>4</th>\n",
       "      <th>5</th>\n",
       "      <th>6</th>\n",
       "      <th>7</th>\n",
       "      <th>8</th>\n",
       "      <th>9</th>\n",
       "      <th>10</th>\n",
       "      <th>11</th>\n",
       "      <th>12</th>\n",
       "      <th>13</th>\n",
       "      <th>14</th>\n",
       "      <th>15</th>\n",
       "      <th>16</th>\n",
       "      <th>17</th>\n",
       "      <th>18</th>\n",
       "      <th>19</th>\n",
       "    </tr>\n",
       "  </thead>\n",
       "  <tbody>\n",
       "    <tr>\n",
       "      <th>loss</th>\n",
       "      <td>4.919590</td>\n",
       "      <td>1.307881</td>\n",
       "      <td>1.231598</td>\n",
       "      <td>1.166876</td>\n",
       "      <td>1.103711</td>\n",
       "      <td>1.038391</td>\n",
       "      <td>0.972046</td>\n",
       "      <td>0.909158</td>\n",
       "      <td>0.853612</td>\n",
       "      <td>0.808019</td>\n",
       "      <td>0.772006</td>\n",
       "      <td>0.743751</td>\n",
       "      <td>0.722089</td>\n",
       "      <td>0.704995</td>\n",
       "      <td>0.691228</td>\n",
       "      <td>0.680220</td>\n",
       "      <td>0.670842</td>\n",
       "      <td>0.663113</td>\n",
       "      <td>0.656333</td>\n",
       "      <td>0.650621</td>\n",
       "    </tr>\n",
       "    <tr>\n",
       "      <th>val_loss</th>\n",
       "      <td>1.360837</td>\n",
       "      <td>1.281529</td>\n",
       "      <td>1.249161</td>\n",
       "      <td>1.231100</td>\n",
       "      <td>1.227113</td>\n",
       "      <td>1.227963</td>\n",
       "      <td>1.239482</td>\n",
       "      <td>1.256634</td>\n",
       "      <td>1.281175</td>\n",
       "      <td>1.306556</td>\n",
       "      <td>1.334485</td>\n",
       "      <td>1.363756</td>\n",
       "      <td>1.389600</td>\n",
       "      <td>1.417761</td>\n",
       "      <td>1.441684</td>\n",
       "      <td>1.467355</td>\n",
       "      <td>1.489836</td>\n",
       "      <td>1.512855</td>\n",
       "      <td>1.535828</td>\n",
       "      <td>1.557300</td>\n",
       "    </tr>\n",
       "  </tbody>\n",
       "</table>\n",
       "</div>"
      ],
      "text/plain": [
       "                0         1         2         3         4         5   \\\n",
       "loss      4.919590  1.307881  1.231598  1.166876  1.103711  1.038391   \n",
       "val_loss  1.360837  1.281529  1.249161  1.231100  1.227113  1.227963   \n",
       "\n",
       "                6         7         8         9         10        11  \\\n",
       "loss      0.972046  0.909158  0.853612  0.808019  0.772006  0.743751   \n",
       "val_loss  1.239482  1.256634  1.281175  1.306556  1.334485  1.363756   \n",
       "\n",
       "                12        13        14        15        16        17  \\\n",
       "loss      0.722089  0.704995  0.691228  0.680220  0.670842  0.663113   \n",
       "val_loss  1.389600  1.417761  1.441684  1.467355  1.489836  1.512855   \n",
       "\n",
       "                18        19  \n",
       "loss      0.656333  0.650621  \n",
       "val_loss  1.535828  1.557300  "
      ]
     },
     "execution_count": 14,
     "metadata": {},
     "output_type": "execute_result"
    }
   ],
   "source": [
    "pd.DataFrame(history.history, columns=['loss', 'val_loss']).head(20).transpose()"
   ]
  },
  {
   "cell_type": "markdown",
   "metadata": {},
   "source": [
    "这张图可以更为直观地看到实际上我们的测试loss在第5个epoch就已经达到最低了，之后已经过拟合了。"
   ]
  },
  {
   "cell_type": "code",
   "execution_count": 19,
   "metadata": {},
   "outputs": [
    {
     "data": {
      "text/plain": [
       "(0, 3)"
      ]
     },
     "execution_count": 19,
     "metadata": {},
     "output_type": "execute_result"
    },
    {
     "data": {
      "image/png": "[encoded data removed]",
      "text/plain": [
       "<Figure size 432x288 with 1 Axes>"
      ]
     },
     "metadata": {},
     "output_type": "display_data"
    }
   ],
   "source": [
    "plot(history.history['loss'], label='loss')\n",
    "plot(history.history['val_loss'], label='val_loss')\n",
    "plt.legend()\n",
    "plt.ylim(0, 3)"
   ]
  },
  {
   "cell_type": "markdown",
   "metadata": {},
   "source": [
    "上面的实验尝试用神经网络模拟矩阵分解，网络结构很简单，最后的MSE loss为1.23，实际上这个结果并不好。接下来我们尝试改变用户与条目embedding的结合方式，在网络中加入更多隐藏层，以及使用Dropout层以防止过拟合，从而构建一个深度网络。然后比较我们的结果与state-of-the-art实验结果作对比，从而证实这个深度网络是有效的。"
   ]
  },
  {
   "cell_type": "markdown",
   "metadata": {},
   "source": [
    "读入数据和分析数据部分与上面一致，这里略去。在embedding之后，这里我们使用Concatenate连接层，用来将用户向量和条目线性连接为一个大小为$1\\times 2k$的向量。接下来连接3个Dense全连接层，全连接层的大小逐渐减小，最后再与一个大小为1的全连接层连接用于得到预测结果。中间穿插了一些Drop层用于防止过拟合。由于预测结果为单个浮点数，所以激活函数我们这里都是选择线性函数，之后的实验我们也会尝试使用非线性函数用作对比。\n",
    "\n",
    "另外评估方式我们又增加了MAE（平均绝对误差）和ACC（准确率），其计算方式这里不再赘述。"
   ]
  },
  {
   "cell_type": "code",
   "execution_count": 3,
   "metadata": {},
   "outputs": [
    {
     "data": {
      "image/svg+xml": [
       "<svg height=\"848pt\" viewBox=\"0.00 0.00 432.00 848.00\" width=\"432pt\" xmlns=\"http://www.w3.org/2000/svg\" xmlns:xlink=\"http://www.w3.org/1999/xlink\">\n",
       "<g class=\"graph\" id=\"graph0\" transform=\"scale(1 1) rotate(0) translate(4 844)\">\n",
       "<title>G</title>\n",
       "<polygon fill=\"white\" points=\"-4,4 -4,-844 428,-844 428,4 -4,4\" stroke=\"none\"/>\n",
       "<!-- 140519885929104 -->\n",
       "<g class=\"node\" id=\"node1\"><title>140519885929104</title>\n",
       "<polygon fill=\"none\" points=\"10.5,-803.5 10.5,-839.5 192.5,-839.5 192.5,-803.5 10.5,-803.5\" stroke=\"black\"/>\n",
       "<text font-family=\"Times,serif\" font-size=\"14.00\" text-anchor=\"middle\" x=\"101.5\" y=\"-817.8\">user_input: InputLayer</text>\n",
       "</g>\n",
       "<!-- 140519885149776 -->\n",
       "<g class=\"node\" id=\"node3\"><title>140519885149776</title>\n",
       "<polygon fill=\"none\" points=\"0,-730.5 0,-766.5 203,-766.5 203,-730.5 0,-730.5\" stroke=\"black\"/>\n",
       "<text font-family=\"Times,serif\" font-size=\"14.00\" text-anchor=\"middle\" x=\"101.5\" y=\"-744.8\">embedding_1: Embedding</text>\n",
       "</g>\n",
       "<!-- 140519885929104&#45;&gt;140519885149776 -->\n",
       "<g class=\"edge\" id=\"edge1\"><title>140519885929104-&gt;140519885149776</title>\n",
       "<path d=\"M101.5,-803.313C101.5,-795.289 101.5,-785.547 101.5,-776.569\" fill=\"none\" stroke=\"black\"/>\n",
       "<polygon fill=\"black\" points=\"105,-776.529 101.5,-766.529 98.0001,-776.529 105,-776.529\" stroke=\"black\"/>\n",
       "</g>\n",
       "<!-- 140519885929552 -->\n",
       "<g class=\"node\" id=\"node2\"><title>140519885929552</title>\n",
       "<polygon fill=\"none\" points=\"234.5,-803.5 234.5,-839.5 410.5,-839.5 410.5,-803.5 234.5,-803.5\" stroke=\"black\"/>\n",
       "<text font-family=\"Times,serif\" font-size=\"14.00\" text-anchor=\"middle\" x=\"322.5\" y=\"-817.8\">sub_input: InputLayer</text>\n",
       "</g>\n",
       "<!-- 140519885929040 -->\n",
       "<g class=\"node\" id=\"node4\"><title>140519885929040</title>\n",
       "<polygon fill=\"none\" points=\"221,-730.5 221,-766.5 424,-766.5 424,-730.5 221,-730.5\" stroke=\"black\"/>\n",
       "<text font-family=\"Times,serif\" font-size=\"14.00\" text-anchor=\"middle\" x=\"322.5\" y=\"-744.8\">embedding_2: Embedding</text>\n",
       "</g>\n",
       "<!-- 140519885929552&#45;&gt;140519885929040 -->\n",
       "<g class=\"edge\" id=\"edge2\"><title>140519885929552-&gt;140519885929040</title>\n",
       "<path d=\"M322.5,-803.313C322.5,-795.289 322.5,-785.547 322.5,-776.569\" fill=\"none\" stroke=\"black\"/>\n",
       "<polygon fill=\"black\" points=\"326,-776.529 322.5,-766.529 319,-776.529 326,-776.529\" stroke=\"black\"/>\n",
       "</g>\n",
       "<!-- 140519885149840 -->\n",
       "<g class=\"node\" id=\"node5\"><title>140519885149840</title>\n",
       "<polygon fill=\"none\" points=\"42.5,-657.5 42.5,-693.5 202.5,-693.5 202.5,-657.5 42.5,-657.5\" stroke=\"black\"/>\n",
       "<text font-family=\"Times,serif\" font-size=\"14.00\" text-anchor=\"middle\" x=\"122.5\" y=\"-671.8\">reshape_1: Reshape</text>\n",
       "</g>\n",
       "<!-- 140519885149776&#45;&gt;140519885149840 -->\n",
       "<g class=\"edge\" id=\"edge3\"><title>140519885149776-&gt;140519885149840</title>\n",
       "<path d=\"M106.584,-730.313C108.982,-722.202 111.901,-712.336 114.58,-703.277\" fill=\"none\" stroke=\"black\"/>\n",
       "<polygon fill=\"black\" points=\"117.983,-704.111 117.463,-693.529 111.271,-702.125 117.983,-704.111\" stroke=\"black\"/>\n",
       "</g>\n",
       "<!-- 140519885929872 -->\n",
       "<g class=\"node\" id=\"node6\"><title>140519885929872</title>\n",
       "<polygon fill=\"none\" points=\"231.5,-657.5 231.5,-693.5 391.5,-693.5 391.5,-657.5 231.5,-657.5\" stroke=\"black\"/>\n",
       "<text font-family=\"Times,serif\" font-size=\"14.00\" text-anchor=\"middle\" x=\"311.5\" y=\"-671.8\">reshape_2: Reshape</text>\n",
       "</g>\n",
       "<!-- 140519885929040&#45;&gt;140519885929872 -->\n",
       "<g class=\"edge\" id=\"edge4\"><title>140519885929040-&gt;140519885929872</title>\n",
       "<path d=\"M319.837,-730.313C318.594,-722.289 317.085,-712.547 315.694,-703.569\" fill=\"none\" stroke=\"black\"/>\n",
       "<polygon fill=\"black\" points=\"319.128,-702.875 314.138,-693.529 312.211,-703.947 319.128,-702.875\" stroke=\"black\"/>\n",
       "</g>\n",
       "<!-- 140519885930256 -->\n",
       "<g class=\"node\" id=\"node7\"><title>140519885930256</title>\n",
       "<polygon fill=\"none\" points=\"106,-584.5 106,-620.5 327,-620.5 327,-584.5 106,-584.5\" stroke=\"black\"/>\n",
       "<text font-family=\"Times,serif\" font-size=\"14.00\" text-anchor=\"middle\" x=\"216.5\" y=\"-598.8\">concatenate_1: Concatenate</text>\n",
       "</g>\n",
       "<!-- 140519885149840&#45;&gt;140519885930256 -->\n",
       "<g class=\"edge\" id=\"edge5\"><title>140519885149840-&gt;140519885930256</title>\n",
       "<path d=\"M145.255,-657.313C157.378,-648.156 172.466,-636.76 185.631,-626.816\" fill=\"none\" stroke=\"black\"/>\n",
       "<polygon fill=\"black\" points=\"188.085,-629.349 193.955,-620.529 183.866,-623.763 188.085,-629.349\" stroke=\"black\"/>\n",
       "</g>\n",
       "<!-- 140519885929872&#45;&gt;140519885930256 -->\n",
       "<g class=\"edge\" id=\"edge6\"><title>140519885929872-&gt;140519885930256</title>\n",
       "<path d=\"M288.503,-657.313C276.134,-648.069 260.712,-636.543 247.318,-626.532\" fill=\"none\" stroke=\"black\"/>\n",
       "<polygon fill=\"black\" points=\"249.39,-623.712 239.285,-620.529 245.2,-629.319 249.39,-623.712\" stroke=\"black\"/>\n",
       "</g>\n",
       "<!-- 140519885930128 -->\n",
       "<g class=\"node\" id=\"node8\"><title>140519885930128</title>\n",
       "<polygon fill=\"none\" points=\"138,-511.5 138,-547.5 295,-547.5 295,-511.5 138,-511.5\" stroke=\"black\"/>\n",
       "<text font-family=\"Times,serif\" font-size=\"14.00\" text-anchor=\"middle\" x=\"216.5\" y=\"-525.8\">dropout_1: Dropout</text>\n",
       "</g>\n",
       "<!-- 140519885930256&#45;&gt;140519885930128 -->\n",
       "<g class=\"edge\" id=\"edge7\"><title>140519885930256-&gt;140519885930128</title>\n",
       "<path d=\"M216.5,-584.313C216.5,-576.289 216.5,-566.547 216.5,-557.569\" fill=\"none\" stroke=\"black\"/>\n",
       "<polygon fill=\"black\" points=\"220,-557.529 216.5,-547.529 213,-557.529 220,-557.529\" stroke=\"black\"/>\n",
       "</g>\n",
       "<!-- 140519885929616 -->\n",
       "<g class=\"node\" id=\"node9\"><title>140519885929616</title>\n",
       "<polygon fill=\"none\" points=\"152.5,-438.5 152.5,-474.5 280.5,-474.5 280.5,-438.5 152.5,-438.5\" stroke=\"black\"/>\n",
       "<text font-family=\"Times,serif\" font-size=\"14.00\" text-anchor=\"middle\" x=\"216.5\" y=\"-452.8\">dense_1: Dense</text>\n",
       "</g>\n",
       "<!-- 140519885930128&#45;&gt;140519885929616 -->\n",
       "<g class=\"edge\" id=\"edge8\"><title>140519885930128-&gt;140519885929616</title>\n",
       "<path d=\"M216.5,-511.313C216.5,-503.289 216.5,-493.547 216.5,-484.569\" fill=\"none\" stroke=\"black\"/>\n",
       "<polygon fill=\"black\" points=\"220,-484.529 216.5,-474.529 213,-484.529 220,-484.529\" stroke=\"black\"/>\n",
       "</g>\n",
       "<!-- 140519885929808 -->\n",
       "<g class=\"node\" id=\"node10\"><title>140519885929808</title>\n",
       "<polygon fill=\"none\" points=\"138,-365.5 138,-401.5 295,-401.5 295,-365.5 138,-365.5\" stroke=\"black\"/>\n",
       "<text font-family=\"Times,serif\" font-size=\"14.00\" text-anchor=\"middle\" x=\"216.5\" y=\"-379.8\">dropout_2: Dropout</text>\n",
       "</g>\n",
       "<!-- 140519885929616&#45;&gt;140519885929808 -->\n",
       "<g class=\"edge\" id=\"edge9\"><title>140519885929616-&gt;140519885929808</title>\n",
       "<path d=\"M216.5,-438.313C216.5,-430.289 216.5,-420.547 216.5,-411.569\" fill=\"none\" stroke=\"black\"/>\n",
       "<polygon fill=\"black\" points=\"220,-411.529 216.5,-401.529 213,-411.529 220,-411.529\" stroke=\"black\"/>\n",
       "</g>\n",
       "<!-- 140519885300816 -->\n",
       "<g class=\"node\" id=\"node11\"><title>140519885300816</title>\n",
       "<polygon fill=\"none\" points=\"152.5,-292.5 152.5,-328.5 280.5,-328.5 280.5,-292.5 152.5,-292.5\" stroke=\"black\"/>\n",
       "<text font-family=\"Times,serif\" font-size=\"14.00\" text-anchor=\"middle\" x=\"216.5\" y=\"-306.8\">dense_2: Dense</text>\n",
       "</g>\n",
       "<!-- 140519885929808&#45;&gt;140519885300816 -->\n",
       "<g class=\"edge\" id=\"edge10\"><title>140519885929808-&gt;140519885300816</title>\n",
       "<path d=\"M216.5,-365.313C216.5,-357.289 216.5,-347.547 216.5,-338.569\" fill=\"none\" stroke=\"black\"/>\n",
       "<polygon fill=\"black\" points=\"220,-338.529 216.5,-328.529 213,-338.529 220,-338.529\" stroke=\"black\"/>\n",
       "</g>\n",
       "<!-- 140519885196496 -->\n",
       "<g class=\"node\" id=\"node12\"><title>140519885196496</title>\n",
       "<polygon fill=\"none\" points=\"138,-219.5 138,-255.5 295,-255.5 295,-219.5 138,-219.5\" stroke=\"black\"/>\n",
       "<text font-family=\"Times,serif\" font-size=\"14.00\" text-anchor=\"middle\" x=\"216.5\" y=\"-233.8\">dropout_3: Dropout</text>\n",
       "</g>\n",
       "<!-- 140519885300816&#45;&gt;140519885196496 -->\n",
       "<g class=\"edge\" id=\"edge11\"><title>140519885300816-&gt;140519885196496</title>\n",
       "<path d=\"M216.5,-292.313C216.5,-284.289 216.5,-274.547 216.5,-265.569\" fill=\"none\" stroke=\"black\"/>\n",
       "<polygon fill=\"black\" points=\"220,-265.529 216.5,-255.529 213,-265.529 220,-265.529\" stroke=\"black\"/>\n",
       "</g>\n",
       "<!-- 140519884871376 -->\n",
       "<g class=\"node\" id=\"node13\"><title>140519884871376</title>\n",
       "<polygon fill=\"none\" points=\"152.5,-146.5 152.5,-182.5 280.5,-182.5 280.5,-146.5 152.5,-146.5\" stroke=\"black\"/>\n",
       "<text font-family=\"Times,serif\" font-size=\"14.00\" text-anchor=\"middle\" x=\"216.5\" y=\"-160.8\">dense_3: Dense</text>\n",
       "</g>\n",
       "<!-- 140519885196496&#45;&gt;140519884871376 -->\n",
       "<g class=\"edge\" id=\"edge12\"><title>140519885196496-&gt;140519884871376</title>\n",
       "<path d=\"M216.5,-219.313C216.5,-211.289 216.5,-201.547 216.5,-192.569\" fill=\"none\" stroke=\"black\"/>\n",
       "<polygon fill=\"black\" points=\"220,-192.529 216.5,-182.529 213,-192.529 220,-192.529\" stroke=\"black\"/>\n",
       "</g>\n",
       "<!-- 140519884872784 -->\n",
       "<g class=\"node\" id=\"node14\"><title>140519884872784</title>\n",
       "<polygon fill=\"none\" points=\"138,-73.5 138,-109.5 295,-109.5 295,-73.5 138,-73.5\" stroke=\"black\"/>\n",
       "<text font-family=\"Times,serif\" font-size=\"14.00\" text-anchor=\"middle\" x=\"216.5\" y=\"-87.8\">dropout_4: Dropout</text>\n",
       "</g>\n",
       "<!-- 140519884871376&#45;&gt;140519884872784 -->\n",
       "<g class=\"edge\" id=\"edge13\"><title>140519884871376-&gt;140519884872784</title>\n",
       "<path d=\"M216.5,-146.313C216.5,-138.289 216.5,-128.547 216.5,-119.569\" fill=\"none\" stroke=\"black\"/>\n",
       "<polygon fill=\"black\" points=\"220,-119.529 216.5,-109.529 213,-119.529 220,-119.529\" stroke=\"black\"/>\n",
       "</g>\n",
       "<!-- 140519884422672 -->\n",
       "<g class=\"node\" id=\"node15\"><title>140519884422672</title>\n",
       "<polygon fill=\"none\" points=\"152.5,-0.5 152.5,-36.5 280.5,-36.5 280.5,-0.5 152.5,-0.5\" stroke=\"black\"/>\n",
       "<text font-family=\"Times,serif\" font-size=\"14.00\" text-anchor=\"middle\" x=\"216.5\" y=\"-14.8\">dense_4: Dense</text>\n",
       "</g>\n",
       "<!-- 140519884872784&#45;&gt;140519884422672 -->\n",
       "<g class=\"edge\" id=\"edge14\"><title>140519884872784-&gt;140519884422672</title>\n",
       "<path d=\"M216.5,-73.3129C216.5,-65.2895 216.5,-55.5475 216.5,-46.5691\" fill=\"none\" stroke=\"black\"/>\n",
       "<polygon fill=\"black\" points=\"220,-46.5288 216.5,-36.5288 213,-46.5289 220,-46.5288\" stroke=\"black\"/>\n",
       "</g>\n",
       "</g>\n",
       "</svg>"
      ],
      "text/plain": [
       "<IPython.core.display.SVG object>"
      ]
     },
     "execution_count": 3,
     "metadata": {},
     "output_type": "execute_result"
    }
   ],
   "source": [
    "# ml-deep.py\n",
    "input1 = Input(shape=(1,), name='user_input')\n",
    "model1 = Embedding(n_user, k, input_length=1)(input1)\n",
    "model1 = Reshape((k,))(model1)\n",
    "input2 = Input(shape=(1,), name='sub_input')\n",
    "model2 = Embedding(n_sub, k, input_length=1)(input2)\n",
    "model2 = Reshape((k,))(model2)\n",
    "model = Concatenate()([model1, model2])\n",
    "model = Dropout(0.2)(model)\n",
    "model = Dense(k, activation='relu')(model)\n",
    "model = Dropout(0.5)(model)\n",
    "model = Dense(int(k/4), activation='relu')(model)\n",
    "model = Dropout(0.5)(model)\n",
    "model = Dense(int(k/16), activation='relu')(model)\n",
    "model = Dropout(0.5)(model)\n",
    "output = Dense(1, activation='linear')(model)\n",
    "model = Model([input1, input2], output)\n",
    "model.compile(loss='mse', optimizer='adam', metrics=['mae', 'acc'])\n",
    "SVG(model_to_dot(model).create(prog='dot', format='svg'))"
   ]
  },
  {
   "cell_type": "code",
   "execution_count": 4,
   "metadata": {},
   "outputs": [
    {
     "name": "stdout",
     "output_type": "stream",
     "text": [
      "Train on 900188 samples, validate on 100021 samples\n",
      "Epoch 1/20\n",
      "900188/900188 [==============================] - 33s 37us/step - loss: 2.5244 - mean_absolute_error: 1.2707 - acc: 0.2439 - val_loss: 0.9831 - val_mean_absolute_error: 0.8232 - val_acc: 0.3516\n",
      "Epoch 2/20\n",
      "900188/900188 [==============================] - 17s 19us/step - loss: 1.3839 - mean_absolute_error: 0.9465 - acc: 0.3204 - val_loss: 0.8816 - val_mean_absolute_error: 0.7635 - val_acc: 0.3903\n",
      "Epoch 3/20\n",
      "900188/900188 [==============================] - 17s 19us/step - loss: 1.0380 - mean_absolute_error: 0.8212 - acc: 0.3673 - val_loss: 0.8941 - val_mean_absolute_error: 0.7521 - val_acc: 0.3966\n",
      "Epoch 4/20\n",
      "900188/900188 [==============================] - 17s 19us/step - loss: 0.9789 - mean_absolute_error: 0.7843 - acc: 0.3852 - val_loss: 0.9093 - val_mean_absolute_error: 0.7500 - val_acc: 0.3953\n",
      "Epoch 5/20\n",
      "900188/900188 [==============================] - 17s 19us/step - loss: 0.9709 - mean_absolute_error: 0.7775 - acc: 0.3886 - val_loss: 0.9032 - val_mean_absolute_error: 0.7462 - val_acc: 0.3974\n",
      "Epoch 6/20\n",
      "900188/900188 [==============================] - 17s 19us/step - loss: 0.9634 - mean_absolute_error: 0.7743 - acc: 0.3909 - val_loss: 0.9018 - val_mean_absolute_error: 0.7482 - val_acc: 0.3960\n",
      "Epoch 7/20\n",
      "900188/900188 [==============================] - 17s 19us/step - loss: 0.9572 - mean_absolute_error: 0.7711 - acc: 0.3929 - val_loss: 0.8902 - val_mean_absolute_error: 0.7365 - val_acc: 0.4015\n",
      "Epoch 8/20\n",
      "900188/900188 [==============================] - 17s 19us/step - loss: 0.9526 - mean_absolute_error: 0.7696 - acc: 0.3933 - val_loss: 0.8830 - val_mean_absolute_error: 0.7346 - val_acc: 0.4048\n",
      "Epoch 9/20\n",
      "900188/900188 [==============================] - 17s 19us/step - loss: 0.9480 - mean_absolute_error: 0.7676 - acc: 0.3943 - val_loss: 0.8845 - val_mean_absolute_error: 0.7362 - val_acc: 0.4030\n",
      "Epoch 10/20\n",
      "900188/900188 [==============================] - 17s 19us/step - loss: 0.9449 - mean_absolute_error: 0.7659 - acc: 0.3953 - val_loss: 0.8850 - val_mean_absolute_error: 0.7374 - val_acc: 0.4005\n",
      "Epoch 11/20\n",
      "900188/900188 [==============================] - 17s 19us/step - loss: 0.9410 - mean_absolute_error: 0.7643 - acc: 0.3964 - val_loss: 0.8812 - val_mean_absolute_error: 0.7349 - val_acc: 0.4023\n",
      "Epoch 12/20\n",
      "900188/900188 [==============================] - 17s 19us/step - loss: 0.9375 - mean_absolute_error: 0.7628 - acc: 0.3975 - val_loss: 0.8910 - val_mean_absolute_error: 0.7430 - val_acc: 0.3960\n",
      "Epoch 13/20\n",
      "900188/900188 [==============================] - 17s 19us/step - loss: 0.9359 - mean_absolute_error: 0.7613 - acc: 0.3984 - val_loss: 0.8751 - val_mean_absolute_error: 0.7318 - val_acc: 0.4061\n",
      "Epoch 14/20\n",
      "900188/900188 [==============================] - 17s 19us/step - loss: 0.9318 - mean_absolute_error: 0.7596 - acc: 0.3993 - val_loss: 0.8760 - val_mean_absolute_error: 0.7316 - val_acc: 0.4053\n",
      "Epoch 15/20\n",
      "900188/900188 [==============================] - 17s 19us/step - loss: 0.9288 - mean_absolute_error: 0.7582 - acc: 0.4000 - val_loss: 0.8779 - val_mean_absolute_error: 0.7350 - val_acc: 0.4034\n",
      "Epoch 16/20\n",
      "900188/900188 [==============================] - 17s 19us/step - loss: 0.9266 - mean_absolute_error: 0.7573 - acc: 0.4009 - val_loss: 0.8769 - val_mean_absolute_error: 0.7324 - val_acc: 0.4052\n",
      "Epoch 17/20\n",
      "900188/900188 [==============================] - 17s 19us/step - loss: 0.9240 - mean_absolute_error: 0.7565 - acc: 0.4014 - val_loss: 0.8730 - val_mean_absolute_error: 0.7293 - val_acc: 0.4064\n",
      "Epoch 18/20\n",
      "900188/900188 [==============================] - 17s 19us/step - loss: 0.9207 - mean_absolute_error: 0.7548 - acc: 0.4020 - val_loss: 0.8674 - val_mean_absolute_error: 0.7272 - val_acc: 0.4087\n",
      "Epoch 19/20\n",
      "900188/900188 [==============================] - 17s 19us/step - loss: 0.9197 - mean_absolute_error: 0.7544 - acc: 0.4026 - val_loss: 0.8737 - val_mean_absolute_error: 0.7305 - val_acc: 0.4032\n",
      "Epoch 20/20\n",
      "900188/900188 [==============================] - 17s 19us/step - loss: 0.9167 - mean_absolute_error: 0.7529 - acc: 0.4036 - val_loss: 0.8708 - val_mean_absolute_error: 0.7300 - val_acc: 0.4053\n"
     ]
    }
   ],
   "source": [
    "train, test = cross_validation.train_test_split(data, test_size=0.1, random_state=1)\n",
    "x_train = [train.uid, train.sid]\n",
    "y_train = train.rating\n",
    "x_test = [test.uid, test.sid]\n",
    "y_test = test.rating\n",
    "history = model.fit(x_train, y_train, batch_size=500, epochs=20, validation_data=(x_test, y_test))\n",
    "\n",
    "save_path = './save/ml-deep/'\n",
    "model.save(save_path + 'model.h5')\n",
    "with open(save_path + 'history.pkl', 'wb') as file_history:\n",
    "    pickle.dump(history.history, file_history)"
   ]
  },
  {
   "cell_type": "markdown",
   "metadata": {},
   "source": [
    "从下面的数据可以看到MSE loss在第18个epoch达到最低的0.8674，此时MAE为0.727，也就是说平均预测误差约为0.7分。这个实验结果看起来还不错，也比上面的实验效果提升了一大步。而文献[5]中列举的在MovieLens 1M数据集上state-of-the-art实验结果RMSE约为0.85，MAE约为0.67，而且都是使用的矩阵分解的算法。可见我们的实验结果很接近state-of-the-art实验结果。"
   ]
  },
  {
   "cell_type": "code",
   "execution_count": 5,
   "metadata": {},
   "outputs": [
    {
     "data": {
      "text/html": [
       "<div>\n",
       "<style scoped>\n",
       "    .dataframe tbody tr th:only-of-type {\n",
       "        vertical-align: middle;\n",
       "    }\n",
       "\n",
       "    .dataframe tbody tr th {\n",
       "        vertical-align: top;\n",
       "    }\n",
       "\n",
       "    .dataframe thead th {\n",
       "        text-align: right;\n",
       "    }\n",
       "</style>\n",
       "<table border=\"1\" class=\"dataframe\">\n",
       "  <thead>\n",
       "    <tr style=\"text-align: right;\">\n",
       "      <th></th>\n",
       "      <th>0</th>\n",
       "      <th>1</th>\n",
       "      <th>2</th>\n",
       "      <th>3</th>\n",
       "      <th>4</th>\n",
       "      <th>5</th>\n",
       "      <th>6</th>\n",
       "      <th>7</th>\n",
       "      <th>8</th>\n",
       "      <th>9</th>\n",
       "      <th>10</th>\n",
       "      <th>11</th>\n",
       "      <th>12</th>\n",
       "      <th>13</th>\n",
       "      <th>14</th>\n",
       "      <th>15</th>\n",
       "      <th>16</th>\n",
       "      <th>17</th>\n",
       "      <th>18</th>\n",
       "      <th>19</th>\n",
       "    </tr>\n",
       "  </thead>\n",
       "  <tbody>\n",
       "    <tr>\n",
       "      <th>loss</th>\n",
       "      <td>2.524403</td>\n",
       "      <td>1.383889</td>\n",
       "      <td>1.037968</td>\n",
       "      <td>0.978874</td>\n",
       "      <td>0.970908</td>\n",
       "      <td>0.963363</td>\n",
       "      <td>0.957207</td>\n",
       "      <td>0.952579</td>\n",
       "      <td>0.947997</td>\n",
       "      <td>0.944915</td>\n",
       "      <td>0.940976</td>\n",
       "      <td>0.937513</td>\n",
       "      <td>0.935917</td>\n",
       "      <td>0.931835</td>\n",
       "      <td>0.928763</td>\n",
       "      <td>0.926561</td>\n",
       "      <td>0.924042</td>\n",
       "      <td>0.920723</td>\n",
       "      <td>0.919709</td>\n",
       "      <td>0.916655</td>\n",
       "    </tr>\n",
       "    <tr>\n",
       "      <th>val_loss</th>\n",
       "      <td>0.983140</td>\n",
       "      <td>0.881558</td>\n",
       "      <td>0.894119</td>\n",
       "      <td>0.909286</td>\n",
       "      <td>0.903199</td>\n",
       "      <td>0.901848</td>\n",
       "      <td>0.890228</td>\n",
       "      <td>0.883009</td>\n",
       "      <td>0.884515</td>\n",
       "      <td>0.884953</td>\n",
       "      <td>0.881188</td>\n",
       "      <td>0.891011</td>\n",
       "      <td>0.875072</td>\n",
       "      <td>0.875999</td>\n",
       "      <td>0.877860</td>\n",
       "      <td>0.876860</td>\n",
       "      <td>0.873010</td>\n",
       "      <td>0.867386</td>\n",
       "      <td>0.873655</td>\n",
       "      <td>0.870803</td>\n",
       "    </tr>\n",
       "    <tr>\n",
       "      <th>val_mean_absolute_error</th>\n",
       "      <td>0.823214</td>\n",
       "      <td>0.763491</td>\n",
       "      <td>0.752135</td>\n",
       "      <td>0.749992</td>\n",
       "      <td>0.746220</td>\n",
       "      <td>0.748155</td>\n",
       "      <td>0.736454</td>\n",
       "      <td>0.734568</td>\n",
       "      <td>0.736189</td>\n",
       "      <td>0.737386</td>\n",
       "      <td>0.734899</td>\n",
       "      <td>0.742990</td>\n",
       "      <td>0.731845</td>\n",
       "      <td>0.731626</td>\n",
       "      <td>0.734996</td>\n",
       "      <td>0.732368</td>\n",
       "      <td>0.729347</td>\n",
       "      <td>0.727214</td>\n",
       "      <td>0.730526</td>\n",
       "      <td>0.730045</td>\n",
       "    </tr>\n",
       "    <tr>\n",
       "      <th>val_acc</th>\n",
       "      <td>0.351596</td>\n",
       "      <td>0.390268</td>\n",
       "      <td>0.396597</td>\n",
       "      <td>0.395307</td>\n",
       "      <td>0.397447</td>\n",
       "      <td>0.396047</td>\n",
       "      <td>0.401476</td>\n",
       "      <td>0.404785</td>\n",
       "      <td>0.402995</td>\n",
       "      <td>0.400456</td>\n",
       "      <td>0.402306</td>\n",
       "      <td>0.396017</td>\n",
       "      <td>0.406145</td>\n",
       "      <td>0.405305</td>\n",
       "      <td>0.403375</td>\n",
       "      <td>0.405165</td>\n",
       "      <td>0.406365</td>\n",
       "      <td>0.408664</td>\n",
       "      <td>0.403205</td>\n",
       "      <td>0.405285</td>\n",
       "    </tr>\n",
       "  </tbody>\n",
       "</table>\n",
       "</div>"
      ],
      "text/plain": [
       "                               0         1         2         3         4   \\\n",
       "loss                     2.524403  1.383889  1.037968  0.978874  0.970908   \n",
       "val_loss                 0.983140  0.881558  0.894119  0.909286  0.903199   \n",
       "val_mean_absolute_error  0.823214  0.763491  0.752135  0.749992  0.746220   \n",
       "val_acc                  0.351596  0.390268  0.396597  0.395307  0.397447   \n",
       "\n",
       "                               5         6         7         8         9   \\\n",
       "loss                     0.963363  0.957207  0.952579  0.947997  0.944915   \n",
       "val_loss                 0.901848  0.890228  0.883009  0.884515  0.884953   \n",
       "val_mean_absolute_error  0.748155  0.736454  0.734568  0.736189  0.737386   \n",
       "val_acc                  0.396047  0.401476  0.404785  0.402995  0.400456   \n",
       "\n",
       "                               10        11        12        13        14  \\\n",
       "loss                     0.940976  0.937513  0.935917  0.931835  0.928763   \n",
       "val_loss                 0.881188  0.891011  0.875072  0.875999  0.877860   \n",
       "val_mean_absolute_error  0.734899  0.742990  0.731845  0.731626  0.734996   \n",
       "val_acc                  0.402306  0.396017  0.406145  0.405305  0.403375   \n",
       "\n",
       "                               15        16        17        18        19  \n",
       "loss                     0.926561  0.924042  0.920723  0.919709  0.916655  \n",
       "val_loss                 0.876860  0.873010  0.867386  0.873655  0.870803  \n",
       "val_mean_absolute_error  0.732368  0.729347  0.727214  0.730526  0.730045  \n",
       "val_acc                  0.405165  0.406365  0.408664  0.403205  0.405285  "
      ]
     },
     "execution_count": 5,
     "metadata": {},
     "output_type": "execute_result"
    }
   ],
   "source": [
    "pd.DataFrame(history.history, columns=['loss', 'val_loss', 'val_mean_absolute_error', 'val_acc']).head(20).transpose()"
   ]
  },
  {
   "cell_type": "code",
   "execution_count": 6,
   "metadata": {},
   "outputs": [
    {
     "data": {
      "text/plain": [
       "(0, 2)"
      ]
     },
     "execution_count": 6,
     "metadata": {},
     "output_type": "execute_result"
    },
    {
     "data": {
      "image/png": "[encoded data removed]",
      "text/plain": [
       "<Figure size 432x288 with 1 Axes>"
      ]
     },
     "metadata": {},
     "output_type": "display_data"
    }
   ],
   "source": [
    "plot(history.history['loss'], label='loss')\n",
    "plot(history.history['val_loss'], label='val_loss')\n",
    "plot(history.history['val_mean_absolute_error'], label='val_mae')\n",
    "plot(history.history['val_acc'], label='val_acc')\n",
    "plt.legend()\n",
    "plt.ylim(0, 2)"
   ]
  },
  {
   "cell_type": "markdown",
   "metadata": {},
   "source": [
    "上面的实验结果已经说明了我们构建的深度网络是有效的，接下来我们把网络应用到Bangumi数据集上，并在Bangumi数据集上调参以及尝试更多实验，最后利用我们训练得到的模型来实现一个可用的推荐系统。\n",
    "\n",
    "经过上面的数据分析，我们发现Bangumi的评分矩阵很稀疏，为了提高模型的准确度，我们这里对数据集做了筛选，过滤掉评分数小于5的用户和被评分数小于5的条目。另外这里把embedding size增加到了500，batch_size设为1000。"
   ]
  },
  {
   "cell_type": "code",
   "execution_count": 10,
   "metadata": {},
   "outputs": [
    {
     "name": "stdout",
     "output_type": "stream",
     "text": [
      "28574 8518\n"
     ]
    }
   ],
   "source": [
    "# bgm-deep.py\n",
    "from keras.models import Sequential, Model, Input\n",
    "from keras.layers import Dot, Dense, Dropout, Embedding, Reshape, Conv1D, MaxPooling1D\n",
    "from keras.layers.merge import Concatenate\n",
    "from keras.callbacks import ModelCheckpoint\n",
    "from keras import metrics, utils, losses\n",
    "from keras.utils.vis_utils import model_to_dot\n",
    "from sklearn import metrics as sk_metrics, cross_validation\n",
    "from IPython.display import SVG\n",
    "import matplotlib.pyplot as plt\n",
    "from pylab import plot\n",
    "import numpy as np\n",
    "import pandas as pd\n",
    "import pickle\n",
    "import warnings\n",
    "warnings.filterwarnings('ignore')\n",
    "\n",
    "k1 = 500\n",
    "k2 = 500\n",
    "k = k1 + k2\n",
    "data = pd.read_csv('./bgmdata/new_ratings.txt', sep=' ', engine='python', names=['uid', 'sid', 'rating'])\n",
    "n_user = data.uid.unique().shape[0]\n",
    "n_sub = data.sid.unique().shape[0]\n",
    "print n_user, n_sub"
   ]
  },
  {
   "cell_type": "code",
   "execution_count": 4,
   "metadata": {},
   "outputs": [
    {
     "data": {
      "text/html": [
       "<div>\n",
       "<style scoped>\n",
       "    .dataframe tbody tr th:only-of-type {\n",
       "        vertical-align: middle;\n",
       "    }\n",
       "\n",
       "    .dataframe tbody tr th {\n",
       "        vertical-align: top;\n",
       "    }\n",
       "\n",
       "    .dataframe thead th {\n",
       "        text-align: right;\n",
       "    }\n",
       "</style>\n",
       "<table border=\"1\" class=\"dataframe\">\n",
       "  <thead>\n",
       "    <tr style=\"text-align: right;\">\n",
       "      <th></th>\n",
       "      <th>uid</th>\n",
       "      <th>sid</th>\n",
       "      <th>rating</th>\n",
       "    </tr>\n",
       "  </thead>\n",
       "  <tbody>\n",
       "    <tr>\n",
       "      <th>0</th>\n",
       "      <td>0</td>\n",
       "      <td>0</td>\n",
       "      <td>2</td>\n",
       "    </tr>\n",
       "    <tr>\n",
       "      <th>1</th>\n",
       "      <td>1</td>\n",
       "      <td>0</td>\n",
       "      <td>8</td>\n",
       "    </tr>\n",
       "    <tr>\n",
       "      <th>2</th>\n",
       "      <td>2</td>\n",
       "      <td>0</td>\n",
       "      <td>1</td>\n",
       "    </tr>\n",
       "    <tr>\n",
       "      <th>3</th>\n",
       "      <td>3</td>\n",
       "      <td>0</td>\n",
       "      <td>1</td>\n",
       "    </tr>\n",
       "    <tr>\n",
       "      <th>4</th>\n",
       "      <td>4</td>\n",
       "      <td>0</td>\n",
       "      <td>6</td>\n",
       "    </tr>\n",
       "  </tbody>\n",
       "</table>\n",
       "</div>"
      ],
      "text/plain": [
       "   uid  sid  rating\n",
       "0    0    0       2\n",
       "1    1    0       8\n",
       "2    2    0       1\n",
       "3    3    0       1\n",
       "4    4    0       6"
      ]
     },
     "execution_count": 4,
     "metadata": {},
     "output_type": "execute_result"
    }
   ],
   "source": [
    "data.head()"
   ]
  },
  {
   "cell_type": "code",
   "execution_count": 5,
   "metadata": {},
   "outputs": [
    {
     "data": {
      "text/plain": [
       "count    3.131630e+06\n",
       "mean     7.187196e+00\n",
       "std      1.513643e+00\n",
       "min      1.000000e+00\n",
       "25%      6.000000e+00\n",
       "50%      7.000000e+00\n",
       "75%      8.000000e+00\n",
       "max      1.000000e+01\n",
       "Name: rating, dtype: float64"
      ]
     },
     "execution_count": 5,
     "metadata": {},
     "output_type": "execute_result"
    }
   ],
   "source": [
    "data.rating.describe()"
   ]
  },
  {
   "cell_type": "code",
   "execution_count": 6,
   "metadata": {},
   "outputs": [
    {
     "data": {
      "text/plain": [
       "<matplotlib.axes._subplots.AxesSubplot at 0x7f3e8d211e10>"
      ]
     },
     "execution_count": 6,
     "metadata": {},
     "output_type": "execute_result"
    },
    {
     "data": {
      "image/png": "[encoded data removed]",
      "text/plain": [
       "<Figure size 432x288 with 1 Axes>"
      ]
     },
     "metadata": {},
     "output_type": "display_data"
    }
   ],
   "source": [
    "data.rating.hist(bins=20)"
   ]
  },
  {
   "cell_type": "code",
   "execution_count": 7,
   "metadata": {},
   "outputs": [
    {
     "data": {
      "text/plain": [
       "count    28574.000000\n",
       "mean       109.597186\n",
       "std        186.478757\n",
       "min          3.000000\n",
       "25%         11.000000\n",
       "50%         36.000000\n",
       "75%        131.000000\n",
       "max       3755.000000\n",
       "Name: uid, dtype: float64"
      ]
     },
     "execution_count": 7,
     "metadata": {},
     "output_type": "execute_result"
    }
   ],
   "source": [
    "data.uid.value_counts().describe()"
   ]
  },
  {
   "cell_type": "code",
   "execution_count": 8,
   "metadata": {},
   "outputs": [
    {
     "data": {
      "text/plain": [
       "<matplotlib.axes._subplots.AxesSubplot at 0x7f3dbddcdad0>"
      ]
     },
     "execution_count": 8,
     "metadata": {},
     "output_type": "execute_result"
    },
    {
     "data": {
      "image/png": "[encoded data removed]",
      "text/plain": [
       "<Figure size 432x288 with 1 Axes>"
      ]
     },
     "metadata": {},
     "output_type": "display_data"
    }
   ],
   "source": [
    "data.uid.value_counts().hist()"
   ]
  },
  {
   "cell_type": "code",
   "execution_count": 11,
   "metadata": {},
   "outputs": [],
   "source": [
    "input1 = Input(shape=(1,), name='user_input')\n",
    "model1 = Embedding(n_user, k1, input_length=1)(input1)\n",
    "model1 = Reshape((k1,))(model1)\n",
    "input2 = Input(shape=(1,), name='sub_input')\n",
    "model2 = Embedding(n_sub, k2, input_length=1)(input2)\n",
    "model2 = Reshape((k2,))(model2)\n",
    "model = Concatenate()([model1, model2])\n",
    "model = Dropout(0.2)(model)\n",
    "model = Dense(k, activation='relu')(model)\n",
    "model = Dropout(0.5)(model)\n",
    "model = Dense(int(k/4), activation='relu')(model)\n",
    "model = Dropout(0.5)(model)\n",
    "model = Dense(int(k/16), activation='relu')(model)\n",
    "model = Dropout(0.5)(model)\n",
    "output = Dense(1, activation='linear')(model)\n",
    "model = Model([input1, input2], output)\n",
    "model.compile(loss='mse', optimizer='adam', metrics=['mae', 'acc'])"
   ]
  },
  {
   "cell_type": "code",
   "execution_count": 12,
   "metadata": {},
   "outputs": [
    {
     "name": "stdout",
     "output_type": "stream",
     "text": [
      "Train on 2818467 samples, validate on 313163 samples\n",
      "Epoch 1/20\n",
      "2818467/2818467 [==============================] - 96s 34us/step - loss: 2.1129 - mean_absolute_error: 1.1271 - acc: 0.2879 - val_loss: 1.2489 - val_mean_absolute_error: 0.8345 - val_acc: 0.3994\n",
      "\n",
      "Epoch 00001: val_loss improved from inf to 1.24888, saving model to ./save/bgm-deep/best_model.h5\n",
      "Epoch 2/20\n",
      "2818467/2818467 [==============================] - 96s 34us/step - loss: 1.5220 - mean_absolute_error: 0.9379 - acc: 0.3505 - val_loss: 1.1907 - val_mean_absolute_error: 0.8078 - val_acc: 0.4124\n",
      "\n",
      "Epoch 00002: val_loss improved from 1.24888 to 1.19072, saving model to ./save/bgm-deep/best_model.h5\n",
      "Epoch 3/20\n",
      "2818467/2818467 [==============================] - 96s 34us/step - loss: 1.2470 - mean_absolute_error: 0.8319 - acc: 0.4001 - val_loss: 1.1428 - val_mean_absolute_error: 0.7845 - val_acc: 0.42731.2482 - mean_absolute_err - ETA: 1s - loss: 1.2475 - mean_absolute_error\n",
      "\n",
      "Epoch 00003: val_loss improved from 1.19072 to 1.14281, saving model to ./save/bgm-deep/best_model.h5\n",
      "Epoch 4/20\n",
      "2818467/2818467 [==============================] - 95s 34us/step - loss: 1.1694 - mean_absolute_error: 0.8009 - acc: 0.4183 - val_loss: 1.1513 - val_mean_absolute_error: 0.7905 - val_acc: 0.4238\n",
      "\n",
      "Epoch 00004: val_loss did not improve\n",
      "Epoch 5/20\n",
      "2818467/2818467 [==============================] - 95s 34us/step - loss: 1.1255 - mean_absolute_error: 0.7856 - acc: 0.4260 - val_loss: 1.1139 - val_mean_absolute_error: 0.7725 - val_acc: 0.4380\n",
      "\n",
      "Epoch 00005: val_loss improved from 1.14281 to 1.11395, saving model to ./save/bgm-deep/best_model.h5\n",
      "Epoch 6/20\n",
      "2818467/2818467 [==============================] - 95s 34us/step - loss: 1.0843 - mean_absolute_error: 0.7713 - acc: 0.4332 - val_loss: 1.0990 - val_mean_absolute_error: 0.7696 - val_acc: 0.4365\n",
      "\n",
      "Epoch 00006: val_loss improved from 1.11395 to 1.09900, saving model to ./save/bgm-deep/best_model.h5\n",
      "Epoch 7/20\n",
      "2818467/2818467 [==============================] - 95s 34us/step - loss: 1.0476 - mean_absolute_error: 0.7581 - acc: 0.4393 - val_loss: 1.0889 - val_mean_absolute_error: 0.7668 - val_acc: 0.4373\n",
      "\n",
      "Epoch 00007: val_loss improved from 1.09900 to 1.08892, saving model to ./save/bgm-deep/best_model.h5\n",
      "Epoch 8/20\n",
      "2818467/2818467 [==============================] - 95s 34us/step - loss: 1.0147 - mean_absolute_error: 0.7466 - acc: 0.4450 - val_loss: 1.0866 - val_mean_absolute_error: 0.7660 - val_acc: 0.4384\n",
      "\n",
      "Epoch 00008: val_loss improved from 1.08892 to 1.08656, saving model to ./save/bgm-deep/best_model.h5\n",
      "Epoch 9/20\n",
      "2818467/2818467 [==============================] - 95s 34us/step - loss: 0.9860 - mean_absolute_error: 0.7365 - acc: 0.4499 - val_loss: 1.0765 - val_mean_absolute_error: 0.7609 - val_acc: 0.4413\n",
      "\n",
      "Epoch 00009: val_loss improved from 1.08656 to 1.07653, saving model to ./save/bgm-deep/best_model.h5\n",
      "Epoch 10/20\n",
      "2818467/2818467 [==============================] - 95s 34us/step - loss: 0.9602 - mean_absolute_error: 0.7277 - acc: 0.4544 - val_loss: 1.0715 - val_mean_absolute_error: 0.7567 - val_acc: 0.4450\n",
      "\n",
      "Epoch 00010: val_loss improved from 1.07653 to 1.07149, saving model to ./save/bgm-deep/best_model.h5\n",
      "Epoch 11/20\n",
      "2818467/2818467 [==============================] - 95s 34us/step - loss: 0.9382 - mean_absolute_error: 0.7197 - acc: 0.4587 - val_loss: 1.0725 - val_mean_absolute_error: 0.7589 - val_acc: 0.4436\n",
      "\n",
      "Epoch 00011: val_loss did not improve\n",
      "Epoch 12/20\n",
      "2818467/2818467 [==============================] - 95s 34us/step - loss: 0.9181 - mean_absolute_error: 0.7129 - acc: 0.4619 - val_loss: 1.0745 - val_mean_absolute_error: 0.7601 - val_acc: 0.4420\n",
      "\n",
      "Epoch 00012: val_loss did not improve\n",
      "Epoch 13/20\n",
      "2818467/2818467 [==============================] - 95s 34us/step - loss: 0.8986 - mean_absolute_error: 0.7059 - acc: 0.4656 - val_loss: 1.0798 - val_mean_absolute_error: 0.7662 - val_acc: 0.4357\n",
      "\n",
      "Epoch 00013: val_loss did not improve\n",
      "Epoch 14/20\n",
      "2818467/2818467 [==============================] - 95s 34us/step - loss: 0.8828 - mean_absolute_error: 0.7006 - acc: 0.4680 - val_loss: 1.0744 - val_mean_absolute_error: 0.7573 - val_acc: 0.4443er\n",
      "\n",
      "Epoch 00014: val_loss did not improve\n",
      "Epoch 15/20\n",
      "2818467/2818467 [==============================] - 95s 34us/step - loss: 0.8678 - mean_absolute_error: 0.6953 - acc: 0.4705 - val_loss: 1.0724 - val_mean_absolute_error: 0.7571 - val_acc: 0.4440\n",
      "\n",
      "Epoch 00015: val_loss did not improve\n",
      "Epoch 16/20\n",
      "2818467/2818467 [==============================] - 95s 34us/step - loss: 0.8545 - mean_absolute_error: 0.6905 - acc: 0.4730 - val_loss: 1.0738 - val_mean_absolute_error: 0.7597 - val_acc: 0.4428\n",
      "\n",
      "Epoch 00016: val_loss did not improve\n",
      "Epoch 17/20\n",
      "2818467/2818467 [==============================] - 96s 34us/step - loss: 0.8415 - mean_absolute_error: 0.6858 - acc: 0.4756 - val_loss: 1.0787 - val_mean_absolute_error: 0.7618 - val_acc: 0.4401loss: 0.8406  - ETA: 0s - loss: 0.8414 - mean_absolute_error: 0.6857 - ac\n",
      "\n",
      "Epoch 00017: val_loss did not improve\n",
      "Epoch 18/20\n",
      "2818467/2818467 [==============================] - 96s 34us/step - loss: 0.8300 - mean_absolute_error: 0.6815 - acc: 0.4780 - val_loss: 1.0748 - val_mean_absolute_error: 0.7592 - val_acc: 0.4436\n",
      "\n",
      "Epoch 00018: val_loss did not improve\n",
      "Epoch 19/20\n",
      "2818467/2818467 [==============================] - 95s 34us/step - loss: 0.8189 - mean_absolute_error: 0.6774 - acc: 0.4803 - val_loss: 1.0765 - val_mean_absolute_error: 0.7594 - val_acc: 0.4423 - mean_absolute_error: 0.6771 - acc: 0 - ETA: 3s - loss:\n",
      "\n",
      "Epoch 00019: val_loss did not improve\n",
      "Epoch 20/20\n",
      "2818467/2818467 [==============================] - 95s 34us/step - loss: 0.8100 - mean_absolute_error: 0.6741 - acc: 0.4823 - val_loss: 1.0761 - val_mean_absolute_error: 0.7596 - val_acc: 0.4416- mean_absolute_error: 0.6741 - acc: 0.48 - ETA: 0s - loss: 0.8100 - mean_absolute_error: 0.6741 - a\n",
      "\n",
      "Epoch 00020: val_loss did not improve\n"
     ]
    }
   ],
   "source": [
    "train, test = cross_validation.train_test_split(data, test_size=0.1, random_state=1)\n",
    "x_train = [train.uid, train.sid]\n",
    "y_train = train.rating\n",
    "x_test = [test.uid, test.sid]\n",
    "y_test = test.rating\n",
    "save_path = './save/bgm-deep/'\n",
    "checkpoint = ModelCheckpoint(save_path + 'best_model.h5', monitor='val_loss', verbose=1, save_best_only=True, mode='min')\n",
    "callbacks_list = [checkpoint]\n",
    "history = model.fit(x_train, y_train, batch_size=1000, epochs=20, validation_data=(x_test, y_test), callbacks=callbacks_list)\n",
    "\n",
    "with open(save_path + 'history.pkl', 'wb') as file_history:\n",
    "    pickle.dump(history.history, file_history)"
   ]
  },
  {
   "cell_type": "markdown",
   "metadata": {},
   "source": [
    "可以看到训练在第10个epoch达到MSE loss最低，为1.0715，同时MAE为0.757，准确率为44.5%。Bangumi数据集上训练结果略差于mldata上的，这也是预料之中的。实际上这个也是我们最后应用到推荐系统中实际采用的模型。"
   ]
  },
  {
   "cell_type": "code",
   "execution_count": 15,
   "metadata": {},
   "outputs": [
    {
     "data": {
      "text/html": [
       "<div>\n",
       "<style scoped>\n",
       "    .dataframe tbody tr th:only-of-type {\n",
       "        vertical-align: middle;\n",
       "    }\n",
       "\n",
       "    .dataframe tbody tr th {\n",
       "        vertical-align: top;\n",
       "    }\n",
       "\n",
       "    .dataframe thead th {\n",
       "        text-align: right;\n",
       "    }\n",
       "</style>\n",
       "<table border=\"1\" class=\"dataframe\">\n",
       "  <thead>\n",
       "    <tr style=\"text-align: right;\">\n",
       "      <th></th>\n",
       "      <th>0</th>\n",
       "      <th>1</th>\n",
       "      <th>2</th>\n",
       "      <th>3</th>\n",
       "      <th>4</th>\n",
       "      <th>5</th>\n",
       "      <th>6</th>\n",
       "      <th>7</th>\n",
       "      <th>8</th>\n",
       "      <th>9</th>\n",
       "      <th>10</th>\n",
       "      <th>11</th>\n",
       "      <th>12</th>\n",
       "      <th>13</th>\n",
       "      <th>14</th>\n",
       "      <th>15</th>\n",
       "      <th>16</th>\n",
       "      <th>17</th>\n",
       "      <th>18</th>\n",
       "      <th>19</th>\n",
       "    </tr>\n",
       "  </thead>\n",
       "  <tbody>\n",
       "    <tr>\n",
       "      <th>loss</th>\n",
       "      <td>2.112913</td>\n",
       "      <td>1.522025</td>\n",
       "      <td>1.246980</td>\n",
       "      <td>1.169402</td>\n",
       "      <td>1.125499</td>\n",
       "      <td>1.084342</td>\n",
       "      <td>1.047626</td>\n",
       "      <td>1.014666</td>\n",
       "      <td>0.985963</td>\n",
       "      <td>0.960223</td>\n",
       "      <td>0.938153</td>\n",
       "      <td>0.918107</td>\n",
       "      <td>0.898588</td>\n",
       "      <td>0.882763</td>\n",
       "      <td>0.867806</td>\n",
       "      <td>0.854516</td>\n",
       "      <td>0.841494</td>\n",
       "      <td>0.829973</td>\n",
       "      <td>0.818863</td>\n",
       "      <td>0.810031</td>\n",
       "    </tr>\n",
       "    <tr>\n",
       "      <th>val_loss</th>\n",
       "      <td>1.248882</td>\n",
       "      <td>1.190715</td>\n",
       "      <td>1.142809</td>\n",
       "      <td>1.151286</td>\n",
       "      <td>1.113946</td>\n",
       "      <td>1.098996</td>\n",
       "      <td>1.088917</td>\n",
       "      <td>1.086555</td>\n",
       "      <td>1.076530</td>\n",
       "      <td>1.071488</td>\n",
       "      <td>1.072521</td>\n",
       "      <td>1.074528</td>\n",
       "      <td>1.079842</td>\n",
       "      <td>1.074402</td>\n",
       "      <td>1.072412</td>\n",
       "      <td>1.073779</td>\n",
       "      <td>1.078741</td>\n",
       "      <td>1.074797</td>\n",
       "      <td>1.076481</td>\n",
       "      <td>1.076069</td>\n",
       "    </tr>\n",
       "    <tr>\n",
       "      <th>val_mean_absolute_error</th>\n",
       "      <td>0.834524</td>\n",
       "      <td>0.807802</td>\n",
       "      <td>0.784514</td>\n",
       "      <td>0.790467</td>\n",
       "      <td>0.772549</td>\n",
       "      <td>0.769567</td>\n",
       "      <td>0.766848</td>\n",
       "      <td>0.766020</td>\n",
       "      <td>0.760865</td>\n",
       "      <td>0.756735</td>\n",
       "      <td>0.758899</td>\n",
       "      <td>0.760097</td>\n",
       "      <td>0.766179</td>\n",
       "      <td>0.757293</td>\n",
       "      <td>0.757064</td>\n",
       "      <td>0.759670</td>\n",
       "      <td>0.761763</td>\n",
       "      <td>0.759236</td>\n",
       "      <td>0.759409</td>\n",
       "      <td>0.759592</td>\n",
       "    </tr>\n",
       "    <tr>\n",
       "      <th>val_acc</th>\n",
       "      <td>0.399377</td>\n",
       "      <td>0.412440</td>\n",
       "      <td>0.427349</td>\n",
       "      <td>0.423846</td>\n",
       "      <td>0.437967</td>\n",
       "      <td>0.436460</td>\n",
       "      <td>0.437255</td>\n",
       "      <td>0.438398</td>\n",
       "      <td>0.441342</td>\n",
       "      <td>0.445033</td>\n",
       "      <td>0.443561</td>\n",
       "      <td>0.441974</td>\n",
       "      <td>0.435655</td>\n",
       "      <td>0.444302</td>\n",
       "      <td>0.443989</td>\n",
       "      <td>0.442814</td>\n",
       "      <td>0.440065</td>\n",
       "      <td>0.443596</td>\n",
       "      <td>0.442290</td>\n",
       "      <td>0.441578</td>\n",
       "    </tr>\n",
       "  </tbody>\n",
       "</table>\n",
       "</div>"
      ],
      "text/plain": [
       "                               0         1         2         3         4   \\\n",
       "loss                     2.112913  1.522025  1.246980  1.169402  1.125499   \n",
       "val_loss                 1.248882  1.190715  1.142809  1.151286  1.113946   \n",
       "val_mean_absolute_error  0.834524  0.807802  0.784514  0.790467  0.772549   \n",
       "val_acc                  0.399377  0.412440  0.427349  0.423846  0.437967   \n",
       "\n",
       "                               5         6         7         8         9   \\\n",
       "loss                     1.084342  1.047626  1.014666  0.985963  0.960223   \n",
       "val_loss                 1.098996  1.088917  1.086555  1.076530  1.071488   \n",
       "val_mean_absolute_error  0.769567  0.766848  0.766020  0.760865  0.756735   \n",
       "val_acc                  0.436460  0.437255  0.438398  0.441342  0.445033   \n",
       "\n",
       "                               10        11        12        13        14  \\\n",
       "loss                     0.938153  0.918107  0.898588  0.882763  0.867806   \n",
       "val_loss                 1.072521  1.074528  1.079842  1.074402  1.072412   \n",
       "val_mean_absolute_error  0.758899  0.760097  0.766179  0.757293  0.757064   \n",
       "val_acc                  0.443561  0.441974  0.435655  0.444302  0.443989   \n",
       "\n",
       "                               15        16        17        18        19  \n",
       "loss                     0.854516  0.841494  0.829973  0.818863  0.810031  \n",
       "val_loss                 1.073779  1.078741  1.074797  1.076481  1.076069  \n",
       "val_mean_absolute_error  0.759670  0.761763  0.759236  0.759409  0.759592  \n",
       "val_acc                  0.442814  0.440065  0.443596  0.442290  0.441578  "
      ]
     },
     "execution_count": 15,
     "metadata": {},
     "output_type": "execute_result"
    }
   ],
   "source": [
    "pd.DataFrame(history.history, columns=['loss', 'val_loss', 'val_mean_absolute_error', 'val_acc']).head(20).transpose()"
   ]
  },
  {
   "cell_type": "code",
   "execution_count": 19,
   "metadata": {},
   "outputs": [
    {
     "data": {
      "text/plain": [
       "(0, 2)"
      ]
     },
     "execution_count": 19,
     "metadata": {},
     "output_type": "execute_result"
    },
    {
     "data": {
      "image/png": "[encoded data removed]",
      "text/plain": [
       "<Figure size 432x288 with 1 Axes>"
      ]
     },
     "metadata": {},
     "output_type": "display_data"
    }
   ],
   "source": [
    "plot(history.history['loss'], label='loss')\n",
    "plot(history.history['val_loss'], label='val_loss')\n",
    "plot(history.history['val_mean_absolute_error'], label='val_mae')\n",
    "plot(history.history['val_acc'], label='val_acc')\n",
    "plt.legend()\n",
    "plt.ylim(0, 2)"
   ]
  },
  {
   "cell_type": "markdown",
   "metadata": {},
   "source": [
    "上面的实验都是预测生成一个评分浮点数，下面我们尝试多类预测实验。网络主体框架还是一样的，区别主要在于最后一层的激活函数我们使用softmax函数，对应地loss function选用categorical_crossentropy，然后还需要把评分映射为10个类别。另外这里还加上了top2预测指标。"
   ]
  },
  {
   "cell_type": "code",
   "execution_count": 12,
   "metadata": {},
   "outputs": [],
   "source": [
    "# bgm-deep-category.py\n",
    "def acc_top2(y_true, y_pred):\n",
    "    return metrics.top_k_categorical_accuracy(y_true, y_pred, k=2)\n",
    "\n",
    "num_classes = 10\n",
    "input1 = Input(shape=(1,), name='user_input')\n",
    "model1 = Embedding(n_user, k1, input_length=1)(input1)\n",
    "model1 = Reshape((k1,))(model1)\n",
    "input2 = Input(shape=(1,), name='sub_input')\n",
    "model2 = Embedding(n_sub, k2, input_length=1)(input2)\n",
    "model2 = Reshape((k2,))(model2)\n",
    "model = Concatenate()([model1, model2])\n",
    "model = Dropout(0.2)(model)\n",
    "model = Dense(k, activation='relu')(model)\n",
    "model = Dropout(0.5)(model)\n",
    "model = Dense(int(k/4), activation='relu')(model)\n",
    "model = Dropout(0.5)(model)\n",
    "model = Dense(int(k/16), activation='relu')(model)\n",
    "model = Dropout(0.5)(model)\n",
    "output = Dense(num_classes, activation='softmax')(model)\n",
    "model = Model([input1, input2], output)\n",
    "model.compile(loss=losses.categorical_crossentropy, optimizer='adam', metrics=['acc', acc_top2])"
   ]
  },
  {
   "cell_type": "code",
   "execution_count": 13,
   "metadata": {},
   "outputs": [
    {
     "name": "stdout",
     "output_type": "stream",
     "text": [
      "Train on 2818467 samples, validate on 313163 samples\n",
      "Epoch 1/20\n",
      "2818467/2818467 [==============================] - 99s 35us/step - loss: 1.4411 - acc: 0.4125 - acc_top2: 0.6956 - val_loss: 1.3487 - val_acc: 0.4386 - val_acc_top2: 0.7255\n",
      "Epoch 2/20\n",
      "2818467/2818467 [==============================] - 98s 35us/step - loss: 1.3629 - acc: 0.4368 - acc_top2: 0.7225 - val_loss: 1.3327 - val_acc: 0.4434 - val_acc_top2: 0.7304\n",
      "Epoch 3/20\n",
      "2818467/2818467 [==============================] - 98s 35us/step - loss: 1.3409 - acc: 0.4441 - acc_top2: 0.7298 - val_loss: 1.3249 - val_acc: 0.4472 - val_acc_top2: 0.7351\n",
      "Epoch 4/20\n",
      "2818467/2818467 [==============================] - 98s 35us/step - loss: 1.3233 - acc: 0.4497 - acc_top2: 0.7363 - val_loss: 1.3199 - val_acc: 0.4500 - val_acc_top2: 0.7370\n",
      "Epoch 5/20\n",
      "2818467/2818467 [==============================] - 98s 35us/step - loss: 1.3092 - acc: 0.4547 - acc_top2: 0.7414 - val_loss: 1.3167 - val_acc: 0.4527 - val_acc_top2: 0.7391\n",
      "Epoch 6/20\n",
      "2818467/2818467 [==============================] - 98s 35us/step - loss: 1.2964 - acc: 0.4594 - acc_top2: 0.7457 - val_loss: 1.3146 - val_acc: 0.4529 - val_acc_top2: 0.7406\n",
      "Epoch 7/20\n",
      "2818467/2818467 [==============================] - 98s 35us/step - loss: 1.2849 - acc: 0.4634 - acc_top2: 0.7499 - val_loss: 1.3177 - val_acc: 0.4532 - val_acc_top2: 0.7403\n",
      "Epoch 8/20\n",
      "2818467/2818467 [==============================] - 97s 35us/step - loss: 1.2734 - acc: 0.4678 - acc_top2: 0.7535 - val_loss: 1.3167 - val_acc: 0.4555 - val_acc_top2: 0.7418\n",
      "Epoch 9/20\n",
      "2818467/2818467 [==============================] - 98s 35us/step - loss: 1.2633 - acc: 0.4717 - acc_top2: 0.7570 - val_loss: 1.3170 - val_acc: 0.4554 - val_acc_top2: 0.7437\n",
      "Epoch 10/20\n",
      "2818467/2818467 [==============================] - 98s 35us/step - loss: 1.2527 - acc: 0.4757 - acc_top2: 0.7604 - val_loss: 1.3199 - val_acc: 0.4579 - val_acc_top2: 0.7437\n",
      "Epoch 11/20\n",
      "2818467/2818467 [==============================] - 98s 35us/step - loss: 1.2439 - acc: 0.4792 - acc_top2: 0.7634 - val_loss: 1.3214 - val_acc: 0.4591 - val_acc_top2: 0.7441\n",
      "Epoch 12/20\n",
      "2818467/2818467 [==============================] - 97s 34us/step - loss: 1.2344 - acc: 0.4831 - acc_top2: 0.7666 - val_loss: 1.3287 - val_acc: 0.4595 - val_acc_top2: 0.7450\n",
      "Epoch 13/20\n",
      "2818467/2818467 [==============================] - 97s 34us/step - loss: 1.2253 - acc: 0.4864 - acc_top2: 0.7697 - val_loss: 1.3268 - val_acc: 0.4601 - val_acc_top2: 0.7446\n",
      "Epoch 14/20\n",
      "2818467/2818467 [==============================] - 97s 34us/step - loss: 1.2171 - acc: 0.4899 - acc_top2: 0.7723 - val_loss: 1.3321 - val_acc: 0.4601 - val_acc_top2: 0.7456\n",
      "Epoch 15/20\n",
      "2818467/2818467 [==============================] - 97s 34us/step - loss: 1.2092 - acc: 0.4931 - acc_top2: 0.7750 - val_loss: 1.3311 - val_acc: 0.4607 - val_acc_top2: 0.7461\n",
      "Epoch 16/20\n",
      "2818467/2818467 [==============================] - 97s 34us/step - loss: 1.2021 - acc: 0.4968 - acc_top2: 0.7776 - val_loss: 1.3343 - val_acc: 0.4613 - val_acc_top2: 0.7462\n",
      "Epoch 17/20\n",
      "2818467/2818467 [==============================] - 97s 34us/step - loss: 1.1943 - acc: 0.4996 - acc_top2: 0.7800 - val_loss: 1.3449 - val_acc: 0.4615 - val_acc_top2: 0.7468\n",
      "Epoch 18/20\n",
      "2818467/2818467 [==============================] - 95s 34us/step - loss: 1.1871 - acc: 0.5027 - acc_top2: 0.7826 - val_loss: 1.3440 - val_acc: 0.4615 - val_acc_top2: 0.7464\n",
      "Epoch 19/20\n",
      "2818467/2818467 [==============================] - 97s 34us/step - loss: 1.1809 - acc: 0.5052 - acc_top2: 0.7844 - val_loss: 1.3468 - val_acc: 0.4621 - val_acc_top2: 0.7468\n",
      "Epoch 20/20\n",
      "2818467/2818467 [==============================] - 96s 34us/step - loss: 1.1744 - acc: 0.5082 - acc_top2: 0.7867 - val_loss: 1.3501 - val_acc: 0.4632 - val_acc_top2: 0.7473\n"
     ]
    }
   ],
   "source": [
    "data.rating = data.rating - 1\n",
    "train, test = cross_validation.train_test_split(data, test_size=0.1, random_state=1)\n",
    "x_train = [train.uid, train.sid]\n",
    "y_train = utils.to_categorical(train.rating, num_classes)\n",
    "x_test = [test.uid, test.sid]\n",
    "y_test = utils.to_categorical(test.rating, num_classes)\n",
    "history = model.fit(x_train, y_train, batch_size=1000, epochs=20, validation_data=(x_test, y_test))\n",
    "\n",
    "save_path = './save/bgm-deep-category/'\n",
    "model.save(save_path + 'model.h5')\n",
    "with open(save_path + 'history.pkl', 'wb') as file_history:\n",
    "    pickle.dump(history.history, file_history)"
   ]
  },
  {
   "cell_type": "markdown",
   "metadata": {},
   "source": [
    "由于采用了与之前不同的loss function，所以我们不能单纯从测试loss来比对哪个模型的效果更好。不过我在阅读了Kears源码后发现其在计算多类问题的ACC时，是取最大可能值所代表的类来计算的，这样的话这里的ACC与上文的ACC是一致的。我们可以从下面看到在第7个epoch时loss最低，此时ACC为45.5%，比上个实验提升了1%。"
   ]
  },
  {
   "cell_type": "code",
   "execution_count": 15,
   "metadata": {},
   "outputs": [
    {
     "data": {
      "text/html": [
       "<div>\n",
       "<style scoped>\n",
       "    .dataframe tbody tr th:only-of-type {\n",
       "        vertical-align: middle;\n",
       "    }\n",
       "\n",
       "    .dataframe tbody tr th {\n",
       "        vertical-align: top;\n",
       "    }\n",
       "\n",
       "    .dataframe thead th {\n",
       "        text-align: right;\n",
       "    }\n",
       "</style>\n",
       "<table border=\"1\" class=\"dataframe\">\n",
       "  <thead>\n",
       "    <tr style=\"text-align: right;\">\n",
       "      <th></th>\n",
       "      <th>0</th>\n",
       "      <th>1</th>\n",
       "      <th>2</th>\n",
       "      <th>3</th>\n",
       "      <th>4</th>\n",
       "      <th>5</th>\n",
       "      <th>6</th>\n",
       "      <th>7</th>\n",
       "      <th>8</th>\n",
       "      <th>9</th>\n",
       "      <th>10</th>\n",
       "      <th>11</th>\n",
       "      <th>12</th>\n",
       "      <th>13</th>\n",
       "      <th>14</th>\n",
       "      <th>15</th>\n",
       "      <th>16</th>\n",
       "      <th>17</th>\n",
       "      <th>18</th>\n",
       "      <th>19</th>\n",
       "    </tr>\n",
       "  </thead>\n",
       "  <tbody>\n",
       "    <tr>\n",
       "      <th>loss</th>\n",
       "      <td>1.442217</td>\n",
       "      <td>1.362413</td>\n",
       "      <td>1.340741</td>\n",
       "      <td>1.323254</td>\n",
       "      <td>1.308744</td>\n",
       "      <td>1.296280</td>\n",
       "      <td>1.284801</td>\n",
       "      <td>1.273939</td>\n",
       "      <td>1.263891</td>\n",
       "      <td>1.253617</td>\n",
       "      <td>1.243515</td>\n",
       "      <td>1.234209</td>\n",
       "      <td>1.224607</td>\n",
       "      <td>1.217071</td>\n",
       "      <td>1.208330</td>\n",
       "      <td>1.201145</td>\n",
       "      <td>1.193261</td>\n",
       "      <td>1.186205</td>\n",
       "      <td>1.179431</td>\n",
       "      <td>1.173104</td>\n",
       "    </tr>\n",
       "    <tr>\n",
       "      <th>val_loss</th>\n",
       "      <td>1.349114</td>\n",
       "      <td>1.335508</td>\n",
       "      <td>1.324734</td>\n",
       "      <td>1.318383</td>\n",
       "      <td>1.317350</td>\n",
       "      <td>1.316049</td>\n",
       "      <td>1.316939</td>\n",
       "      <td>1.317080</td>\n",
       "      <td>1.317831</td>\n",
       "      <td>1.318514</td>\n",
       "      <td>1.322076</td>\n",
       "      <td>1.324519</td>\n",
       "      <td>1.323687</td>\n",
       "      <td>1.331319</td>\n",
       "      <td>1.337061</td>\n",
       "      <td>1.333806</td>\n",
       "      <td>1.337413</td>\n",
       "      <td>1.344480</td>\n",
       "      <td>1.348490</td>\n",
       "      <td>1.347057</td>\n",
       "    </tr>\n",
       "    <tr>\n",
       "      <th>val_acc</th>\n",
       "      <td>0.438273</td>\n",
       "      <td>0.443740</td>\n",
       "      <td>0.448415</td>\n",
       "      <td>0.451113</td>\n",
       "      <td>0.451123</td>\n",
       "      <td>0.452557</td>\n",
       "      <td>0.453515</td>\n",
       "      <td>0.455408</td>\n",
       "      <td>0.457378</td>\n",
       "      <td>0.456922</td>\n",
       "      <td>0.458180</td>\n",
       "      <td>0.457640</td>\n",
       "      <td>0.460693</td>\n",
       "      <td>0.460370</td>\n",
       "      <td>0.460179</td>\n",
       "      <td>0.460856</td>\n",
       "      <td>0.461590</td>\n",
       "      <td>0.462593</td>\n",
       "      <td>0.463960</td>\n",
       "      <td>0.463398</td>\n",
       "    </tr>\n",
       "    <tr>\n",
       "      <th>val_acc_top2</th>\n",
       "      <td>0.726376</td>\n",
       "      <td>0.729904</td>\n",
       "      <td>0.734681</td>\n",
       "      <td>0.738264</td>\n",
       "      <td>0.738903</td>\n",
       "      <td>0.740490</td>\n",
       "      <td>0.740656</td>\n",
       "      <td>0.741371</td>\n",
       "      <td>0.742843</td>\n",
       "      <td>0.743606</td>\n",
       "      <td>0.744338</td>\n",
       "      <td>0.745171</td>\n",
       "      <td>0.745708</td>\n",
       "      <td>0.745899</td>\n",
       "      <td>0.747256</td>\n",
       "      <td>0.746902</td>\n",
       "      <td>0.747282</td>\n",
       "      <td>0.747962</td>\n",
       "      <td>0.748300</td>\n",
       "      <td>0.748026</td>\n",
       "    </tr>\n",
       "  </tbody>\n",
       "</table>\n",
       "</div>"
      ],
      "text/plain": [
       "                    0         1         2         3         4         5   \\\n",
       "loss          1.442217  1.362413  1.340741  1.323254  1.308744  1.296280   \n",
       "val_loss      1.349114  1.335508  1.324734  1.318383  1.317350  1.316049   \n",
       "val_acc       0.438273  0.443740  0.448415  0.451113  0.451123  0.452557   \n",
       "val_acc_top2  0.726376  0.729904  0.734681  0.738264  0.738903  0.740490   \n",
       "\n",
       "                    6         7         8         9         10        11  \\\n",
       "loss          1.284801  1.273939  1.263891  1.253617  1.243515  1.234209   \n",
       "val_loss      1.316939  1.317080  1.317831  1.318514  1.322076  1.324519   \n",
       "val_acc       0.453515  0.455408  0.457378  0.456922  0.458180  0.457640   \n",
       "val_acc_top2  0.740656  0.741371  0.742843  0.743606  0.744338  0.745171   \n",
       "\n",
       "                    12        13        14        15        16        17  \\\n",
       "loss          1.224607  1.217071  1.208330  1.201145  1.193261  1.186205   \n",
       "val_loss      1.323687  1.331319  1.337061  1.333806  1.337413  1.344480   \n",
       "val_acc       0.460693  0.460370  0.460179  0.460856  0.461590  0.462593   \n",
       "val_acc_top2  0.745708  0.745899  0.747256  0.746902  0.747282  0.747962   \n",
       "\n",
       "                    18        19  \n",
       "loss          1.179431  1.173104  \n",
       "val_loss      1.348490  1.347057  \n",
       "val_acc       0.463960  0.463398  \n",
       "val_acc_top2  0.748300  0.748026  "
      ]
     },
     "execution_count": 15,
     "metadata": {},
     "output_type": "execute_result"
    }
   ],
   "source": [
    "pd.DataFrame(history.history, columns=['loss', 'val_loss', 'val_acc', 'val_acc_top2']).head(20).transpose()"
   ]
  },
  {
   "cell_type": "code",
   "execution_count": 22,
   "metadata": {},
   "outputs": [
    {
     "data": {
      "text/plain": [
       "(0, 2)"
      ]
     },
     "execution_count": 22,
     "metadata": {},
     "output_type": "execute_result"
    },
    {
     "data": {
      "image/png": "[encoded data removed]",
      "text/plain": [
       "<Figure size 432x288 with 1 Axes>"
      ]
     },
     "metadata": {},
     "output_type": "display_data"
    }
   ],
   "source": [
    "plot(history.history['loss'], label='loss')\n",
    "plot(history.history['val_loss'], label='val_loss')\n",
    "plot(history.history['val_acc'], label='val_acc')\n",
    "plot(history.history['val_acc_top2'], label='val_acc_top2')\n",
    "plt.legend()\n",
    "plt.ylim(0, 2)"
   ]
  },
  {
   "cell_type": "markdown",
   "metadata": {},
   "source": [
    "上面的实验虽然网络结构有区别，但是都是在先对用户和条目生成embedding为基础进行的。但是上文的embedding都是从整理后的用户和条目的id训练而来的，这个id只是一个记号，无法表示这个用户或者这个条目所隐含的属性。而现实中一个用户的喜好往往与他的年龄，性别，阅历等等有关，同样的一个电影的口碑也经常与他的导演，编剧，剧情类型，拍摄国家等等因素挂钩，所以仅仅使用id来代表用户或电影会丢掉很多信息。\n",
    "\n",
    "考虑到实际Bangumi的情况，我们获取不到更多有用的用户个人信息，但是我们可以从条目的信息着手。Bangumi的每个条目一般都会有其制作公司，导演，脚本以及很多用户根据自己的理解标上的标签等，其中一个标签被标记的用户越多其在条目中显示的位置越靠前。于是我们可以利用条目的标签等信息先生成对应的embedding，之后再用作网络的输入。\n",
    "\n",
    "我之前在做NLP相关研究时经常使用Word2vec<sup>6</sup>生成词向量，这里的词向量相比于传统的空间向量模型主要优点就在于Word2vec考虑到了词与词之间的关系。Word2vec的思想刚好可以用来解决我们的问题。这里使用Word2vec的变形Doc2vec，区别在于Doc2vec是对一段文字生成其向量表达。\n",
    "\n",
    "在实际操作的时候，本实验是用每个条目的标签来生成一段文字，其中位置靠前的标签在文本中出现的次数更大。下面是生成向量表示的代码，我们使用了gensim包里的doc2vec实现，embedding size同样设为500。考虑到一个条目的各个标签之间不存在很强的联系，所以这里将window设为了1，同时为了减小噪声我们设置了min_count即标签的最小出现次数。\n",
    "\n",
    "在生成Doc2vec模型后，接下来的过程与前文类似，这里不再赘述。但是最后的实验结果并没有提升，基本与上文持平。这里的实验我并没有深入研究，就在此停止了。"
   ]
  },
  {
   "cell_type": "code",
   "execution_count": null,
   "metadata": {},
   "outputs": [],
   "source": [
    "# document2vec.py\n",
    "from gensim.models import doc2vec\n",
    "documents = doc2vec.TaggedLineDocument('document.txt')\n",
    "model = doc2vec.Doc2Vec(documents, size=500, window=1, min_count=500, workers=4)\n",
    "model.save('./document.bin')"
   ]
  },
  {
   "cell_type": "markdown",
   "metadata": {},
   "source": [
    "最后是利用上文生成的模型来生成推荐。在生成对单个用户的推荐条目时，我们先用模型来预测该用户对每个条目的预测评分，最后按评分高低来排序。但是我在实现Bangumi的推荐系统时，并不是单纯的按评分高低来依次推荐，由于这个不是本文重点，这里略去。\n",
    "\n",
    "在得到模型之后预测某用户对某条目的评分非常简单，只需要调用接口即可。更有趣的是，我们在训练结束后会得到两个副产品，就是用户和条目的embedding层的参数。前文提到过，利用误差反向传播算法，embedding层的参数也在同时被训练。我们利用得到的参数可以生成相似用户和相似条目，也即“这些用户可能与您有相似的爱好”和“喜欢该条目的用户也喜欢这些条目”。当然，如果我们使用矩阵分解算法，那么会更容易地获得隐含有用户和条目属性的矩阵，同样可以做相似用户和相似条目的推荐。此外我们还可以分析用户以及条目的聚类情况，这个会非常趣。\n",
    "\n",
    "下面是具体的实现代码，这里我们使用的是余弦距离计算方式。"
   ]
  },
  {
   "cell_type": "code",
   "execution_count": null,
   "metadata": {},
   "outputs": [],
   "source": [
    "# get_user_sub.py\n",
    "import keras\n",
    "from keras.models import model_from_json\n",
    "import numpy as np\n",
    "\n",
    "def get_recommendation(i, embeddings, top_n, out):\n",
    "    norms = np.linalg.norm(embeddings[i]) * np.linalg.norm(embeddings, axis=1)\n",
    "    cosine = np.dot(embeddings, embeddings[i]) / norms\n",
    "    index = np.argsort(-cosine)\n",
    "    s = ''\n",
    "    for x in range(top_n):\n",
    "        if index[x] != i:\n",
    "            s += str(index[x]) + ',' + str(cosine[index[x]]) + ' '\n",
    "    s = s[:-1]\n",
    "    out.write(s + '\\n')\n",
    "\n",
    "model = keras.models.load_model('./save/train/model.h5')\n",
    "weights = model.get_weights()\n",
    "user_embeddings = weights[0]\n",
    "sub_embeddings = weights[1]\n",
    "n_user = 28574\n",
    "n_sub = 8518\n",
    "out = open('./user_recommend.txt', 'w')\n",
    "for i in range(n_user):\n",
    "    get_recommendation(i, user_embeddings, 100, out)\n",
    "out.close()\n",
    "out = open('./sub_recommend.txt', 'w')\n",
    "for i in range(n_sub):\n",
    "    get_recommendation(i, sub_embeddings, 50, out)\n",
    "out.close()"
   ]
  },
  {
   "cell_type": "markdown",
   "metadata": {},
   "source": [
    "这样其实我们已经做完了所有的实验。我也简单检查了一下系统为我生成的推荐结果以及推荐的相似条目等，大体上比较满意。但是上文也提到了我在实际编写推荐系统时还加入了很多别的考量，其中我就加入了“相似条目”这一项，这里的“相似条目”与上文中用模型生成的“喜欢该条目的用户也喜欢这些条目”是两个概念。\n",
    "\n",
    "我调研了包括国内的豆瓣，哔哩哔哩弹幕网，淘宝以及国外的MyAnimelist，anidb，IMDB，Amazon等网站的推荐系统，有使用协同过滤推荐的，也有基于内容来推荐的。就我观察来看，总体来说前者推荐的结果不容易让用户看到推荐结果与原条目之间的关联，当然这也是算法的重点在于挖掘隐含的评分联系所导致的。比如豆瓣里对于[冰菓](https://movie.douban.com/subject/10001418/)的推荐结果前三个分别是[化物语](https://movie.douban.com/subject/3893384/)、[伪物语](https://movie.douban.com/subject/6852358/)和[魔法少女小圆](https://movie.douban.com/subject/5349275/)，显然后三者的类型看不出来与前者有表面上的联系，但是给冰菓打高分的用户确实很有可能也给这三者打高分。问题这个推荐结果是否能说服用户，让用户去观看这些推荐的作品。而基于内容推荐的思想很简单，却很实用，主要是会推荐一些有相同的属性的物品。比如哔哩哔哩弹幕网上对于[青之花](https://www.bilibili.com/bangumi/media/md1146)的推荐结果为[轻声密语](https://www.bilibili.com/bangumi/play/ss1166)、[樱Trick](https://www.bilibili.com/bangumi/play/ss3547)、[CANDY BOY](https://www.bilibili.com/bangumi/play/ss1789)和[citrus～柑橘味香气～](https://www.bilibili.com/bangumi/play/ss21557)，这些推荐显然就有了更强的说服力。\n",
    "\n",
    "这两种推荐结果各有优缺点，我在提供上述“可能喜欢”的推荐结果时，也推荐了那些在属性上更加相似的条目。下面是实现代码，具体思想就是构建条目-标签无向图，每个条目与其每个关联的标签都有一条无向边，其权重取决于该标签在条目页的位置（即被认可程度）。我们定义两个条目的相似度为这两个条目所有只包含单个标签连通路径上权重的较小值之和。\n",
    "\n",
    "这个算法思想很简单，写起来也很容易。利用有用标签数远远少于条目数这一特性，我们可以做很多优化。如果用$N$表示条目数，$M$表示标签总数，$m$表示平均每个条目的标签数，算法复杂度的计算主要有三个部分，一个是把条目-标签的关联方式转换成标签-条目的方式，这一部分复杂度是$O(NM)$；第二部分是计算每两对条目之间的相似度，这个我们可以优化到$O(\\frac{N^{2}m^{2}}{M})$；第三部分是对每个条目生成推荐列表，涉及到排序问题，这部分复杂度的计算关键在于平均每个条目与多少条目存在关联，实际上利用第二部分得到的$\\frac{N^{2}m^{2}}{M}$除以$N$就可以得到，因此第三部分的复杂度为$O(\\frac{N^{2}m^{2}}{M}log\\frac{Nm^{2}}{M})$。这个复杂度其实是很低的，因此程序的运算速度很快，如果把这个当做算法竞赛题然后用C++来写，再做一些输入输出优化的话，应该可以做到几秒钟出结果。"
   ]
  },
  {
   "cell_type": "code",
   "execution_count": null,
   "metadata": {},
   "outputs": [],
   "source": [
    "# item.py\n",
    "import json\n",
    "import numpy as np\n",
    "\n",
    "f = open('./item.txt')\n",
    "out = open('./item_recommend.txt', 'w')\n",
    "lines = f.readlines()\n",
    "n = len(lines) - 1\n",
    "m = int(lines[0].strip('\\n'))\n",
    "print n, m\n",
    "tag_mtx = [[] for i in range(m)]\n",
    "for i in range(1, n + 1):\n",
    "    line = lines[i].strip('\\n')\n",
    "    line = line.split(' ')\n",
    "    for x in line:\n",
    "        x = x.split(',')\n",
    "        tag_mtx[int(x[1])].append([i - 1, int(x[0])])\n",
    "print 'start calculate'\n",
    "sub_mtx = [{} for i in range(n)]\n",
    "for tag in tag_mtx:\n",
    "    for x in tag:\n",
    "        for y in tag:\n",
    "            if x == y:\n",
    "                continue\n",
    "            if y[0] not in sub_mtx[x[0]]:\n",
    "                sub_mtx[x[0]][y[0]] = min(x[1], y[1])\n",
    "            else:\n",
    "                sub_mtx[x[0]][y[0]] += min(x[1], y[1])\n",
    "print 'start recommend'\n",
    "for i in range(n):\n",
    "    sub_mtx[i] = sorted(sub_mtx[i].items(), key=lambda x: x[1], reverse=True)\n",
    "    sub_mtx[i] = sub_mtx[i][:50]\n",
    "    s = ''\n",
    "    for x in sub_mtx[i]:\n",
    "        s += str(x[0]) + ',' + str(x[1]) + ' '\n",
    "    s = s[:-1]\n",
    "    out.write(s + '\\n')\n",
    "out.close()"
   ]
  },
  {
   "cell_type": "markdown",
   "metadata": {},
   "source": [
    "参考文献\n",
    "\n",
    "[1] Adomavicius G, Tuzhilin A. Toward the next generation of recommender systems: A survey of the state-of-the-art and possible extensions[J]. IEEE transactions on knowledge and data engineering, 2005, 17(6): 734-749.\n",
    "\n",
    "[2] Wall M E, Rechtsteiner A, Rocha L M. Singular value decomposition and principal component analysis[M]//A practical approach to microarray data analysis. Springer, Boston, MA, 2003: 91-109.\n",
    "\n",
    "[3] 马小栓. 矩阵分解在推荐系统中的研究与应用[D].电子科技大学,2017.\n",
    "\n",
    "[4] https://grouplens.org/datasets/movielens/1m/\n",
    "\n",
    "[5] http://www.mymedialite.net/examples/datasets.html\n",
    "\n",
    "[6] MIKOLOV T, SUTSKEVER I, CHEN K, et al. Distributed Representations of Words and Phrases and Their Compositionality[A] Advances in Neural Information Processing Systems[C], 2013: 3111-3119.\n",
    "\n",
    "另外本文中的一些表述和算法设计灵感参考了很多书籍和博客，在此不再一一列出。"
   ]
  }
 ],
 "metadata": {
  "kernelspec": {
   "display_name": "Python 2",
   "language": "python",
   "name": "python2"
  },
  "language_info": {
   "codemirror_mode": {
    "name": "ipython",
    "version": 2
   },
   "file_extension": ".py",
   "mimetype": "text/x-python",
   "name": "python",
   "nbconvert_exporter": "python",
   "pygments_lexer": "ipython2",
   "version": "2.7.14"
  }
 },
 "nbformat": 4,
 "nbformat_minor": 2
}
